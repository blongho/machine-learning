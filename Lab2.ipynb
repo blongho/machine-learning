{
  "cells": [
    {
      "cell_type": "markdown",
      "metadata": {
        "id": "view-in-github",
        "colab_type": "text"
      },
      "source": [
        "<a href=\"https://colab.research.google.com/github/blongho/machine-learning/blob/master/Lab2.ipynb\" target=\"_parent\"><img src=\"https://colab.research.google.com/assets/colab-badge.svg\" alt=\"Open In Colab\"/></a>"
      ]
    },
    {
      "cell_type": "markdown",
      "metadata": {
        "id": "6q12HxMI60d_"
      },
      "source": [
        "# Lab 2: Pipelines and ensemble models"
      ]
    },
    {
      "cell_type": "markdown",
      "metadata": {
        "id": "K3CcFUFw63FV"
      },
      "source": [
        "This lab will cover various ensemble learning methods covered in the lectures, such as boosting, bagging, and stacking, together with the scikit-learn pipeline. We will tackle the fetal health classification problem using random forest and XGBoost for better performances. We will also learn how to integrate preprocessing and training processes into one pipeline to re-use the whole process easier. The objective of this lab is to get a concept of a whole machine learning pipeline from feature engineering to model selection and lead to a final model.\n",
        "\n",
        "This lab will mainly focus on:\n",
        "- Learn how to use the basic random forest, Adaboost, and XGBoost.\n",
        "- Learn how to use grid search (recap on DAMI) and randomized search.\n",
        "- Learn how to use the scikit-learn pipeline to construct a complete and reusable preprocessing cycle.\n",
        "\n",
        "This lab has the following tasks:\n",
        "\n",
        "- Add private functions to the pipeline.\n",
        "- Integrate a grid search to the pipeline and choose the best model\n",
        "\n",
        "\n",
        "Our goal is to find out the best ensemble model for our dataset. We need to split the dataset into two parts: training and validation sets. Then we test parameter options and eventually choose one best model and compare their test performance.\n",
        "\n",
        "We will use the [fetal health classification](https://www.kaggle.com/andrewmvd/fetal-health-classification) data from Kaggle. The reduction of child mortality is reflected in several of the United Nations' Sustainable Development Goals and is a crucial indicator of human progress. The UN expects that by 2030, countries end preventable deaths of newborns and children under five years of age, with all countries aiming to reduce under‑5 mortality to at least as low as 25 per 1,000 live births.\n",
        "\n",
        "Parallel to the notion of child mortality is of course maternal mortality, which accounts for 295 000 deaths during and following pregnancy and childbirth (as of 2017). The vast majority of these deaths (94%) occurred in low-resource settings, and most could have been prevented.\n",
        "\n",
        "In light of what was mentioned above, Cardiotocograms (CTGs) are a simple and cost-accessible option to assess fetal health, allowing healthcare professionals to take action in order to prevent child and maternal mortality. The equipment itself works by sending ultrasound pulses and reading its response, thus shedding light on fetal heart rate (FHR), fetal movements, uterine contractions, and more.\n",
        "\n",
        "This dataset contains 2126 records of features extracted from Cardiotocogram exams, which were then classified by three expert obstetricians into three classes:\n",
        "\n",
        "- Normal: 1\n",
        "- Suspect: 2\n",
        "- Pathological: 3\n",
        "\n",
        "We will first try to apply ensemble models and eventually integrate grid search and pipeline to create an automated evaluation process to find the best model."
      ]
    },
    {
      "cell_type": "code",
      "source": [
        "import sys\n",
        "IN_COLAB = 'google.colab' in sys.modules\n",
        "if IN_COLAB:\n",
        "  from google.colab import drive\n",
        "  drive.mount('/content/drive/')\n",
        "  #!ls \"/content/drive/My Drive\""
      ],
      "metadata": {
        "colab": {
          "base_uri": "https://localhost:8080/"
        },
        "outputId": "3bff3433-1b1a-4295-8a9c-a2730038f571",
        "id": "H8f5zoOabyXK"
      },
      "execution_count": 1,
      "outputs": [
        {
          "output_type": "stream",
          "name": "stdout",
          "text": [
            "Drive already mounted at /content/drive/; to attempt to forcibly remount, call drive.mount(\"/content/drive/\", force_remount=True).\n"
          ]
        }
      ]
    },
    {
      "cell_type": "markdown",
      "metadata": {
        "id": "nSiE1DIEzrtE"
      },
      "source": [
        "### 0. Libraries"
      ]
    },
    {
      "cell_type": "markdown",
      "metadata": {
        "id": "BG7mxqyvztrA"
      },
      "source": [
        "We will use the following libraries."
      ]
    },
    {
      "cell_type": "code",
      "execution_count": 2,
      "metadata": {
        "id": "Vg1rFI2060uO"
      },
      "outputs": [],
      "source": [
        "from sklearn.ensemble import RandomForestClassifier, AdaBoostClassifier\n",
        "from sklearn.preprocessing import StandardScaler, MinMaxScaler\n",
        "from sklearn.model_selection import train_test_split, cross_val_score, RandomizedSearchCV, GridSearchCV\n",
        "from sklearn.tree import DecisionTreeClassifier\n",
        "from sklearn.linear_model import LogisticRegression\n",
        "from sklearn.base import BaseEstimator, TransformerMixin\n",
        "from sklearn.metrics import average_precision_score, classification_report\n",
        "from sklearn.feature_selection import VarianceThreshold\n",
        "from sklearn.svm import LinearSVC\n",
        "from sklearn.feature_selection import SelectFromModel\n",
        "import xgboost as xgb\n",
        "import pandas as pd\n",
        "import seaborn as sns\n",
        "import matplotlib.pyplot as plt\n",
        "import numpy as np\n",
        "from sklearn.pipeline import Pipeline\n",
        "from imblearn.over_sampling import RandomOverSampler, SMOTE, ADASYN"
      ]
    },
    {
      "cell_type": "markdown",
      "metadata": {
        "id": "LV9PLTbf042I"
      },
      "source": [
        "### 1. Data exploration"
      ]
    },
    {
      "cell_type": "markdown",
      "metadata": {
        "id": "PORkBQrI3B_t"
      },
      "source": [
        "Let's locate the dataset anywhere you want in your local and load it using pd.read_csv. The dataset can be downloaded [here](https://www.kaggle.com/andrewmvd/fetal-health-classification) or ilearn. This time, we will return to pandas DataFrame!"
      ]
    },
    {
      "cell_type": "code",
      "execution_count": 3,
      "metadata": {
        "id": "r1tUmNMd8o72"
      },
      "outputs": [],
      "source": [
        "# Create a DataFrame\n",
        "if IN_COLAB:\n",
        "  data = pd.read_csv(\"/content/drive/My Drive/notebooks/ml/fetal_health.csv\")\n",
        "else:\n",
        "  data  = pd.read_csv(\"fetal_health.csv\")\n",
        "data = pd.DataFrame(data)"
      ]
    },
    {
      "cell_type": "code",
      "execution_count": 4,
      "metadata": {
        "id": "7qWW3qGR2xC7",
        "colab": {
          "base_uri": "https://localhost:8080/",
          "height": 287
        },
        "outputId": "8a71e8c3-9082-45b5-88aa-0d4fb03a24e0"
      },
      "outputs": [
        {
          "output_type": "execute_result",
          "data": {
            "text/html": [
              "\n",
              "  <div id=\"df-18d22aa0-f537-4692-b106-f6f4fac7681f\">\n",
              "    <div class=\"colab-df-container\">\n",
              "      <div>\n",
              "<style scoped>\n",
              "    .dataframe tbody tr th:only-of-type {\n",
              "        vertical-align: middle;\n",
              "    }\n",
              "\n",
              "    .dataframe tbody tr th {\n",
              "        vertical-align: top;\n",
              "    }\n",
              "\n",
              "    .dataframe thead th {\n",
              "        text-align: right;\n",
              "    }\n",
              "</style>\n",
              "<table border=\"1\" class=\"dataframe\">\n",
              "  <thead>\n",
              "    <tr style=\"text-align: right;\">\n",
              "      <th></th>\n",
              "      <th>baseline value</th>\n",
              "      <th>accelerations</th>\n",
              "      <th>fetal_movement</th>\n",
              "      <th>uterine_contractions</th>\n",
              "      <th>light_decelerations</th>\n",
              "      <th>severe_decelerations</th>\n",
              "      <th>prolongued_decelerations</th>\n",
              "      <th>abnormal_short_term_variability</th>\n",
              "      <th>mean_value_of_short_term_variability</th>\n",
              "      <th>percentage_of_time_with_abnormal_long_term_variability</th>\n",
              "      <th>mean_value_of_long_term_variability</th>\n",
              "      <th>histogram_width</th>\n",
              "      <th>histogram_min</th>\n",
              "      <th>histogram_max</th>\n",
              "      <th>histogram_number_of_peaks</th>\n",
              "      <th>histogram_number_of_zeroes</th>\n",
              "      <th>histogram_mode</th>\n",
              "      <th>histogram_mean</th>\n",
              "      <th>histogram_median</th>\n",
              "      <th>histogram_variance</th>\n",
              "      <th>histogram_tendency</th>\n",
              "      <th>fetal_health</th>\n",
              "    </tr>\n",
              "  </thead>\n",
              "  <tbody>\n",
              "    <tr>\n",
              "      <th>0</th>\n",
              "      <td>120.0</td>\n",
              "      <td>0.000</td>\n",
              "      <td>0.0</td>\n",
              "      <td>0.000</td>\n",
              "      <td>0.000</td>\n",
              "      <td>0.0</td>\n",
              "      <td>0.0</td>\n",
              "      <td>73.0</td>\n",
              "      <td>0.5</td>\n",
              "      <td>43.0</td>\n",
              "      <td>2.4</td>\n",
              "      <td>64.0</td>\n",
              "      <td>62.0</td>\n",
              "      <td>126.0</td>\n",
              "      <td>2.0</td>\n",
              "      <td>0.0</td>\n",
              "      <td>120.0</td>\n",
              "      <td>137.0</td>\n",
              "      <td>121.0</td>\n",
              "      <td>73.0</td>\n",
              "      <td>1.0</td>\n",
              "      <td>2.0</td>\n",
              "    </tr>\n",
              "    <tr>\n",
              "      <th>1</th>\n",
              "      <td>132.0</td>\n",
              "      <td>0.006</td>\n",
              "      <td>0.0</td>\n",
              "      <td>0.006</td>\n",
              "      <td>0.003</td>\n",
              "      <td>0.0</td>\n",
              "      <td>0.0</td>\n",
              "      <td>17.0</td>\n",
              "      <td>2.1</td>\n",
              "      <td>0.0</td>\n",
              "      <td>10.4</td>\n",
              "      <td>130.0</td>\n",
              "      <td>68.0</td>\n",
              "      <td>198.0</td>\n",
              "      <td>6.0</td>\n",
              "      <td>1.0</td>\n",
              "      <td>141.0</td>\n",
              "      <td>136.0</td>\n",
              "      <td>140.0</td>\n",
              "      <td>12.0</td>\n",
              "      <td>0.0</td>\n",
              "      <td>1.0</td>\n",
              "    </tr>\n",
              "    <tr>\n",
              "      <th>2</th>\n",
              "      <td>133.0</td>\n",
              "      <td>0.003</td>\n",
              "      <td>0.0</td>\n",
              "      <td>0.008</td>\n",
              "      <td>0.003</td>\n",
              "      <td>0.0</td>\n",
              "      <td>0.0</td>\n",
              "      <td>16.0</td>\n",
              "      <td>2.1</td>\n",
              "      <td>0.0</td>\n",
              "      <td>13.4</td>\n",
              "      <td>130.0</td>\n",
              "      <td>68.0</td>\n",
              "      <td>198.0</td>\n",
              "      <td>5.0</td>\n",
              "      <td>1.0</td>\n",
              "      <td>141.0</td>\n",
              "      <td>135.0</td>\n",
              "      <td>138.0</td>\n",
              "      <td>13.0</td>\n",
              "      <td>0.0</td>\n",
              "      <td>1.0</td>\n",
              "    </tr>\n",
              "    <tr>\n",
              "      <th>3</th>\n",
              "      <td>134.0</td>\n",
              "      <td>0.003</td>\n",
              "      <td>0.0</td>\n",
              "      <td>0.008</td>\n",
              "      <td>0.003</td>\n",
              "      <td>0.0</td>\n",
              "      <td>0.0</td>\n",
              "      <td>16.0</td>\n",
              "      <td>2.4</td>\n",
              "      <td>0.0</td>\n",
              "      <td>23.0</td>\n",
              "      <td>117.0</td>\n",
              "      <td>53.0</td>\n",
              "      <td>170.0</td>\n",
              "      <td>11.0</td>\n",
              "      <td>0.0</td>\n",
              "      <td>137.0</td>\n",
              "      <td>134.0</td>\n",
              "      <td>137.0</td>\n",
              "      <td>13.0</td>\n",
              "      <td>1.0</td>\n",
              "      <td>1.0</td>\n",
              "    </tr>\n",
              "    <tr>\n",
              "      <th>4</th>\n",
              "      <td>132.0</td>\n",
              "      <td>0.007</td>\n",
              "      <td>0.0</td>\n",
              "      <td>0.008</td>\n",
              "      <td>0.000</td>\n",
              "      <td>0.0</td>\n",
              "      <td>0.0</td>\n",
              "      <td>16.0</td>\n",
              "      <td>2.4</td>\n",
              "      <td>0.0</td>\n",
              "      <td>19.9</td>\n",
              "      <td>117.0</td>\n",
              "      <td>53.0</td>\n",
              "      <td>170.0</td>\n",
              "      <td>9.0</td>\n",
              "      <td>0.0</td>\n",
              "      <td>137.0</td>\n",
              "      <td>136.0</td>\n",
              "      <td>138.0</td>\n",
              "      <td>11.0</td>\n",
              "      <td>1.0</td>\n",
              "      <td>1.0</td>\n",
              "    </tr>\n",
              "  </tbody>\n",
              "</table>\n",
              "</div>\n",
              "      <button class=\"colab-df-convert\" onclick=\"convertToInteractive('df-18d22aa0-f537-4692-b106-f6f4fac7681f')\"\n",
              "              title=\"Convert this dataframe to an interactive table.\"\n",
              "              style=\"display:none;\">\n",
              "        \n",
              "  <svg xmlns=\"http://www.w3.org/2000/svg\" height=\"24px\"viewBox=\"0 0 24 24\"\n",
              "       width=\"24px\">\n",
              "    <path d=\"M0 0h24v24H0V0z\" fill=\"none\"/>\n",
              "    <path d=\"M18.56 5.44l.94 2.06.94-2.06 2.06-.94-2.06-.94-.94-2.06-.94 2.06-2.06.94zm-11 1L8.5 8.5l.94-2.06 2.06-.94-2.06-.94L8.5 2.5l-.94 2.06-2.06.94zm10 10l.94 2.06.94-2.06 2.06-.94-2.06-.94-.94-2.06-.94 2.06-2.06.94z\"/><path d=\"M17.41 7.96l-1.37-1.37c-.4-.4-.92-.59-1.43-.59-.52 0-1.04.2-1.43.59L10.3 9.45l-7.72 7.72c-.78.78-.78 2.05 0 2.83L4 21.41c.39.39.9.59 1.41.59.51 0 1.02-.2 1.41-.59l7.78-7.78 2.81-2.81c.8-.78.8-2.07 0-2.86zM5.41 20L4 18.59l7.72-7.72 1.47 1.35L5.41 20z\"/>\n",
              "  </svg>\n",
              "      </button>\n",
              "      \n",
              "  <style>\n",
              "    .colab-df-container {\n",
              "      display:flex;\n",
              "      flex-wrap:wrap;\n",
              "      gap: 12px;\n",
              "    }\n",
              "\n",
              "    .colab-df-convert {\n",
              "      background-color: #E8F0FE;\n",
              "      border: none;\n",
              "      border-radius: 50%;\n",
              "      cursor: pointer;\n",
              "      display: none;\n",
              "      fill: #1967D2;\n",
              "      height: 32px;\n",
              "      padding: 0 0 0 0;\n",
              "      width: 32px;\n",
              "    }\n",
              "\n",
              "    .colab-df-convert:hover {\n",
              "      background-color: #E2EBFA;\n",
              "      box-shadow: 0px 1px 2px rgba(60, 64, 67, 0.3), 0px 1px 3px 1px rgba(60, 64, 67, 0.15);\n",
              "      fill: #174EA6;\n",
              "    }\n",
              "\n",
              "    [theme=dark] .colab-df-convert {\n",
              "      background-color: #3B4455;\n",
              "      fill: #D2E3FC;\n",
              "    }\n",
              "\n",
              "    [theme=dark] .colab-df-convert:hover {\n",
              "      background-color: #434B5C;\n",
              "      box-shadow: 0px 1px 3px 1px rgba(0, 0, 0, 0.15);\n",
              "      filter: drop-shadow(0px 1px 2px rgba(0, 0, 0, 0.3));\n",
              "      fill: #FFFFFF;\n",
              "    }\n",
              "  </style>\n",
              "\n",
              "      <script>\n",
              "        const buttonEl =\n",
              "          document.querySelector('#df-18d22aa0-f537-4692-b106-f6f4fac7681f button.colab-df-convert');\n",
              "        buttonEl.style.display =\n",
              "          google.colab.kernel.accessAllowed ? 'block' : 'none';\n",
              "\n",
              "        async function convertToInteractive(key) {\n",
              "          const element = document.querySelector('#df-18d22aa0-f537-4692-b106-f6f4fac7681f');\n",
              "          const dataTable =\n",
              "            await google.colab.kernel.invokeFunction('convertToInteractive',\n",
              "                                                     [key], {});\n",
              "          if (!dataTable) return;\n",
              "\n",
              "          const docLinkHtml = 'Like what you see? Visit the ' +\n",
              "            '<a target=\"_blank\" href=https://colab.research.google.com/notebooks/data_table.ipynb>data table notebook</a>'\n",
              "            + ' to learn more about interactive tables.';\n",
              "          element.innerHTML = '';\n",
              "          dataTable['output_type'] = 'display_data';\n",
              "          await google.colab.output.renderOutput(dataTable, element);\n",
              "          const docLink = document.createElement('div');\n",
              "          docLink.innerHTML = docLinkHtml;\n",
              "          element.appendChild(docLink);\n",
              "        }\n",
              "      </script>\n",
              "    </div>\n",
              "  </div>\n",
              "  "
            ],
            "text/plain": [
              "   baseline value  accelerations  ...  histogram_tendency  fetal_health\n",
              "0           120.0          0.000  ...                 1.0           2.0\n",
              "1           132.0          0.006  ...                 0.0           1.0\n",
              "2           133.0          0.003  ...                 0.0           1.0\n",
              "3           134.0          0.003  ...                 1.0           1.0\n",
              "4           132.0          0.007  ...                 1.0           1.0\n",
              "\n",
              "[5 rows x 22 columns]"
            ]
          },
          "metadata": {},
          "execution_count": 4
        }
      ],
      "source": [
        "# head\n",
        "data.head()"
      ]
    },
    {
      "cell_type": "code",
      "source": [
        "data.describe()"
      ],
      "metadata": {
        "colab": {
          "base_uri": "https://localhost:8080/",
          "height": 381
        },
        "id": "uPixXS0-4kTW",
        "outputId": "a9b2565d-aca8-4502-90e2-4ec52405ad95"
      },
      "execution_count": 5,
      "outputs": [
        {
          "output_type": "execute_result",
          "data": {
            "text/html": [
              "\n",
              "  <div id=\"df-73cd3724-945c-4bf1-bbcb-201f622943bb\">\n",
              "    <div class=\"colab-df-container\">\n",
              "      <div>\n",
              "<style scoped>\n",
              "    .dataframe tbody tr th:only-of-type {\n",
              "        vertical-align: middle;\n",
              "    }\n",
              "\n",
              "    .dataframe tbody tr th {\n",
              "        vertical-align: top;\n",
              "    }\n",
              "\n",
              "    .dataframe thead th {\n",
              "        text-align: right;\n",
              "    }\n",
              "</style>\n",
              "<table border=\"1\" class=\"dataframe\">\n",
              "  <thead>\n",
              "    <tr style=\"text-align: right;\">\n",
              "      <th></th>\n",
              "      <th>baseline value</th>\n",
              "      <th>accelerations</th>\n",
              "      <th>fetal_movement</th>\n",
              "      <th>uterine_contractions</th>\n",
              "      <th>light_decelerations</th>\n",
              "      <th>severe_decelerations</th>\n",
              "      <th>prolongued_decelerations</th>\n",
              "      <th>abnormal_short_term_variability</th>\n",
              "      <th>mean_value_of_short_term_variability</th>\n",
              "      <th>percentage_of_time_with_abnormal_long_term_variability</th>\n",
              "      <th>mean_value_of_long_term_variability</th>\n",
              "      <th>histogram_width</th>\n",
              "      <th>histogram_min</th>\n",
              "      <th>histogram_max</th>\n",
              "      <th>histogram_number_of_peaks</th>\n",
              "      <th>histogram_number_of_zeroes</th>\n",
              "      <th>histogram_mode</th>\n",
              "      <th>histogram_mean</th>\n",
              "      <th>histogram_median</th>\n",
              "      <th>histogram_variance</th>\n",
              "      <th>histogram_tendency</th>\n",
              "      <th>fetal_health</th>\n",
              "    </tr>\n",
              "  </thead>\n",
              "  <tbody>\n",
              "    <tr>\n",
              "      <th>count</th>\n",
              "      <td>2126.000000</td>\n",
              "      <td>2126.000000</td>\n",
              "      <td>2126.000000</td>\n",
              "      <td>2126.000000</td>\n",
              "      <td>2126.000000</td>\n",
              "      <td>2126.000000</td>\n",
              "      <td>2126.000000</td>\n",
              "      <td>2126.000000</td>\n",
              "      <td>2126.000000</td>\n",
              "      <td>2126.00000</td>\n",
              "      <td>2126.000000</td>\n",
              "      <td>2126.000000</td>\n",
              "      <td>2126.000000</td>\n",
              "      <td>2126.000000</td>\n",
              "      <td>2126.000000</td>\n",
              "      <td>2126.000000</td>\n",
              "      <td>2126.000000</td>\n",
              "      <td>2126.000000</td>\n",
              "      <td>2126.000000</td>\n",
              "      <td>2126.000000</td>\n",
              "      <td>2126.000000</td>\n",
              "      <td>2126.000000</td>\n",
              "    </tr>\n",
              "    <tr>\n",
              "      <th>mean</th>\n",
              "      <td>133.303857</td>\n",
              "      <td>0.003178</td>\n",
              "      <td>0.009481</td>\n",
              "      <td>0.004366</td>\n",
              "      <td>0.001889</td>\n",
              "      <td>0.000003</td>\n",
              "      <td>0.000159</td>\n",
              "      <td>46.990122</td>\n",
              "      <td>1.332785</td>\n",
              "      <td>9.84666</td>\n",
              "      <td>8.187629</td>\n",
              "      <td>70.445908</td>\n",
              "      <td>93.579492</td>\n",
              "      <td>164.025400</td>\n",
              "      <td>4.068203</td>\n",
              "      <td>0.323612</td>\n",
              "      <td>137.452023</td>\n",
              "      <td>134.610536</td>\n",
              "      <td>138.090310</td>\n",
              "      <td>18.808090</td>\n",
              "      <td>0.320320</td>\n",
              "      <td>1.304327</td>\n",
              "    </tr>\n",
              "    <tr>\n",
              "      <th>std</th>\n",
              "      <td>9.840844</td>\n",
              "      <td>0.003866</td>\n",
              "      <td>0.046666</td>\n",
              "      <td>0.002946</td>\n",
              "      <td>0.002960</td>\n",
              "      <td>0.000057</td>\n",
              "      <td>0.000590</td>\n",
              "      <td>17.192814</td>\n",
              "      <td>0.883241</td>\n",
              "      <td>18.39688</td>\n",
              "      <td>5.628247</td>\n",
              "      <td>38.955693</td>\n",
              "      <td>29.560212</td>\n",
              "      <td>17.944183</td>\n",
              "      <td>2.949386</td>\n",
              "      <td>0.706059</td>\n",
              "      <td>16.381289</td>\n",
              "      <td>15.593596</td>\n",
              "      <td>14.466589</td>\n",
              "      <td>28.977636</td>\n",
              "      <td>0.610829</td>\n",
              "      <td>0.614377</td>\n",
              "    </tr>\n",
              "    <tr>\n",
              "      <th>min</th>\n",
              "      <td>106.000000</td>\n",
              "      <td>0.000000</td>\n",
              "      <td>0.000000</td>\n",
              "      <td>0.000000</td>\n",
              "      <td>0.000000</td>\n",
              "      <td>0.000000</td>\n",
              "      <td>0.000000</td>\n",
              "      <td>12.000000</td>\n",
              "      <td>0.200000</td>\n",
              "      <td>0.00000</td>\n",
              "      <td>0.000000</td>\n",
              "      <td>3.000000</td>\n",
              "      <td>50.000000</td>\n",
              "      <td>122.000000</td>\n",
              "      <td>0.000000</td>\n",
              "      <td>0.000000</td>\n",
              "      <td>60.000000</td>\n",
              "      <td>73.000000</td>\n",
              "      <td>77.000000</td>\n",
              "      <td>0.000000</td>\n",
              "      <td>-1.000000</td>\n",
              "      <td>1.000000</td>\n",
              "    </tr>\n",
              "    <tr>\n",
              "      <th>25%</th>\n",
              "      <td>126.000000</td>\n",
              "      <td>0.000000</td>\n",
              "      <td>0.000000</td>\n",
              "      <td>0.002000</td>\n",
              "      <td>0.000000</td>\n",
              "      <td>0.000000</td>\n",
              "      <td>0.000000</td>\n",
              "      <td>32.000000</td>\n",
              "      <td>0.700000</td>\n",
              "      <td>0.00000</td>\n",
              "      <td>4.600000</td>\n",
              "      <td>37.000000</td>\n",
              "      <td>67.000000</td>\n",
              "      <td>152.000000</td>\n",
              "      <td>2.000000</td>\n",
              "      <td>0.000000</td>\n",
              "      <td>129.000000</td>\n",
              "      <td>125.000000</td>\n",
              "      <td>129.000000</td>\n",
              "      <td>2.000000</td>\n",
              "      <td>0.000000</td>\n",
              "      <td>1.000000</td>\n",
              "    </tr>\n",
              "    <tr>\n",
              "      <th>50%</th>\n",
              "      <td>133.000000</td>\n",
              "      <td>0.002000</td>\n",
              "      <td>0.000000</td>\n",
              "      <td>0.004000</td>\n",
              "      <td>0.000000</td>\n",
              "      <td>0.000000</td>\n",
              "      <td>0.000000</td>\n",
              "      <td>49.000000</td>\n",
              "      <td>1.200000</td>\n",
              "      <td>0.00000</td>\n",
              "      <td>7.400000</td>\n",
              "      <td>67.500000</td>\n",
              "      <td>93.000000</td>\n",
              "      <td>162.000000</td>\n",
              "      <td>3.000000</td>\n",
              "      <td>0.000000</td>\n",
              "      <td>139.000000</td>\n",
              "      <td>136.000000</td>\n",
              "      <td>139.000000</td>\n",
              "      <td>7.000000</td>\n",
              "      <td>0.000000</td>\n",
              "      <td>1.000000</td>\n",
              "    </tr>\n",
              "    <tr>\n",
              "      <th>75%</th>\n",
              "      <td>140.000000</td>\n",
              "      <td>0.006000</td>\n",
              "      <td>0.003000</td>\n",
              "      <td>0.007000</td>\n",
              "      <td>0.003000</td>\n",
              "      <td>0.000000</td>\n",
              "      <td>0.000000</td>\n",
              "      <td>61.000000</td>\n",
              "      <td>1.700000</td>\n",
              "      <td>11.00000</td>\n",
              "      <td>10.800000</td>\n",
              "      <td>100.000000</td>\n",
              "      <td>120.000000</td>\n",
              "      <td>174.000000</td>\n",
              "      <td>6.000000</td>\n",
              "      <td>0.000000</td>\n",
              "      <td>148.000000</td>\n",
              "      <td>145.000000</td>\n",
              "      <td>148.000000</td>\n",
              "      <td>24.000000</td>\n",
              "      <td>1.000000</td>\n",
              "      <td>1.000000</td>\n",
              "    </tr>\n",
              "    <tr>\n",
              "      <th>max</th>\n",
              "      <td>160.000000</td>\n",
              "      <td>0.019000</td>\n",
              "      <td>0.481000</td>\n",
              "      <td>0.015000</td>\n",
              "      <td>0.015000</td>\n",
              "      <td>0.001000</td>\n",
              "      <td>0.005000</td>\n",
              "      <td>87.000000</td>\n",
              "      <td>7.000000</td>\n",
              "      <td>91.00000</td>\n",
              "      <td>50.700000</td>\n",
              "      <td>180.000000</td>\n",
              "      <td>159.000000</td>\n",
              "      <td>238.000000</td>\n",
              "      <td>18.000000</td>\n",
              "      <td>10.000000</td>\n",
              "      <td>187.000000</td>\n",
              "      <td>182.000000</td>\n",
              "      <td>186.000000</td>\n",
              "      <td>269.000000</td>\n",
              "      <td>1.000000</td>\n",
              "      <td>3.000000</td>\n",
              "    </tr>\n",
              "  </tbody>\n",
              "</table>\n",
              "</div>\n",
              "      <button class=\"colab-df-convert\" onclick=\"convertToInteractive('df-73cd3724-945c-4bf1-bbcb-201f622943bb')\"\n",
              "              title=\"Convert this dataframe to an interactive table.\"\n",
              "              style=\"display:none;\">\n",
              "        \n",
              "  <svg xmlns=\"http://www.w3.org/2000/svg\" height=\"24px\"viewBox=\"0 0 24 24\"\n",
              "       width=\"24px\">\n",
              "    <path d=\"M0 0h24v24H0V0z\" fill=\"none\"/>\n",
              "    <path d=\"M18.56 5.44l.94 2.06.94-2.06 2.06-.94-2.06-.94-.94-2.06-.94 2.06-2.06.94zm-11 1L8.5 8.5l.94-2.06 2.06-.94-2.06-.94L8.5 2.5l-.94 2.06-2.06.94zm10 10l.94 2.06.94-2.06 2.06-.94-2.06-.94-.94-2.06-.94 2.06-2.06.94z\"/><path d=\"M17.41 7.96l-1.37-1.37c-.4-.4-.92-.59-1.43-.59-.52 0-1.04.2-1.43.59L10.3 9.45l-7.72 7.72c-.78.78-.78 2.05 0 2.83L4 21.41c.39.39.9.59 1.41.59.51 0 1.02-.2 1.41-.59l7.78-7.78 2.81-2.81c.8-.78.8-2.07 0-2.86zM5.41 20L4 18.59l7.72-7.72 1.47 1.35L5.41 20z\"/>\n",
              "  </svg>\n",
              "      </button>\n",
              "      \n",
              "  <style>\n",
              "    .colab-df-container {\n",
              "      display:flex;\n",
              "      flex-wrap:wrap;\n",
              "      gap: 12px;\n",
              "    }\n",
              "\n",
              "    .colab-df-convert {\n",
              "      background-color: #E8F0FE;\n",
              "      border: none;\n",
              "      border-radius: 50%;\n",
              "      cursor: pointer;\n",
              "      display: none;\n",
              "      fill: #1967D2;\n",
              "      height: 32px;\n",
              "      padding: 0 0 0 0;\n",
              "      width: 32px;\n",
              "    }\n",
              "\n",
              "    .colab-df-convert:hover {\n",
              "      background-color: #E2EBFA;\n",
              "      box-shadow: 0px 1px 2px rgba(60, 64, 67, 0.3), 0px 1px 3px 1px rgba(60, 64, 67, 0.15);\n",
              "      fill: #174EA6;\n",
              "    }\n",
              "\n",
              "    [theme=dark] .colab-df-convert {\n",
              "      background-color: #3B4455;\n",
              "      fill: #D2E3FC;\n",
              "    }\n",
              "\n",
              "    [theme=dark] .colab-df-convert:hover {\n",
              "      background-color: #434B5C;\n",
              "      box-shadow: 0px 1px 3px 1px rgba(0, 0, 0, 0.15);\n",
              "      filter: drop-shadow(0px 1px 2px rgba(0, 0, 0, 0.3));\n",
              "      fill: #FFFFFF;\n",
              "    }\n",
              "  </style>\n",
              "\n",
              "      <script>\n",
              "        const buttonEl =\n",
              "          document.querySelector('#df-73cd3724-945c-4bf1-bbcb-201f622943bb button.colab-df-convert');\n",
              "        buttonEl.style.display =\n",
              "          google.colab.kernel.accessAllowed ? 'block' : 'none';\n",
              "\n",
              "        async function convertToInteractive(key) {\n",
              "          const element = document.querySelector('#df-73cd3724-945c-4bf1-bbcb-201f622943bb');\n",
              "          const dataTable =\n",
              "            await google.colab.kernel.invokeFunction('convertToInteractive',\n",
              "                                                     [key], {});\n",
              "          if (!dataTable) return;\n",
              "\n",
              "          const docLinkHtml = 'Like what you see? Visit the ' +\n",
              "            '<a target=\"_blank\" href=https://colab.research.google.com/notebooks/data_table.ipynb>data table notebook</a>'\n",
              "            + ' to learn more about interactive tables.';\n",
              "          element.innerHTML = '';\n",
              "          dataTable['output_type'] = 'display_data';\n",
              "          await google.colab.output.renderOutput(dataTable, element);\n",
              "          const docLink = document.createElement('div');\n",
              "          docLink.innerHTML = docLinkHtml;\n",
              "          element.appendChild(docLink);\n",
              "        }\n",
              "      </script>\n",
              "    </div>\n",
              "  </div>\n",
              "  "
            ],
            "text/plain": [
              "       baseline value  accelerations  ...  histogram_tendency  fetal_health\n",
              "count     2126.000000    2126.000000  ...         2126.000000   2126.000000\n",
              "mean       133.303857       0.003178  ...            0.320320      1.304327\n",
              "std          9.840844       0.003866  ...            0.610829      0.614377\n",
              "min        106.000000       0.000000  ...           -1.000000      1.000000\n",
              "25%        126.000000       0.000000  ...            0.000000      1.000000\n",
              "50%        133.000000       0.002000  ...            0.000000      1.000000\n",
              "75%        140.000000       0.006000  ...            1.000000      1.000000\n",
              "max        160.000000       0.019000  ...            1.000000      3.000000\n",
              "\n",
              "[8 rows x 22 columns]"
            ]
          },
          "metadata": {},
          "execution_count": 5
        }
      ]
    },
    {
      "cell_type": "markdown",
      "source": [
        "The first thing we need to do is to separate features and labels. Also, since our labels are categorical, it might be better to change the data type of labels to integers."
      ],
      "metadata": {
        "id": "2o6GaJIljO8a"
      }
    },
    {
      "cell_type": "code",
      "execution_count": 6,
      "metadata": {
        "id": "r7ormC5y2ygj"
      },
      "outputs": [],
      "source": [
        "# Features\n",
        "X = data[data.columns[:-1]]\n",
        "# Labels\n",
        "y = data[data.columns[-1:]]"
      ]
    },
    {
      "cell_type": "code",
      "execution_count": 7,
      "metadata": {
        "id": "-2ltuneE28a2",
        "colab": {
          "base_uri": "https://localhost:8080/"
        },
        "outputId": "901a16a3-d18d-45f1-966e-99633013ed4d"
      },
      "outputs": [
        {
          "output_type": "execute_result",
          "data": {
            "text/plain": [
              "<bound method NDFrame.head of       baseline value  accelerations  ...  histogram_variance  histogram_tendency\n",
              "0              120.0          0.000  ...                73.0                 1.0\n",
              "1              132.0          0.006  ...                12.0                 0.0\n",
              "2              133.0          0.003  ...                13.0                 0.0\n",
              "3              134.0          0.003  ...                13.0                 1.0\n",
              "4              132.0          0.007  ...                11.0                 1.0\n",
              "...              ...            ...  ...                 ...                 ...\n",
              "2121           140.0          0.000  ...                 2.0                 0.0\n",
              "2122           140.0          0.001  ...                 3.0                 1.0\n",
              "2123           140.0          0.001  ...                 4.0                 1.0\n",
              "2124           140.0          0.001  ...                 4.0                 1.0\n",
              "2125           142.0          0.002  ...                 1.0                 0.0\n",
              "\n",
              "[2126 rows x 21 columns]>"
            ]
          },
          "metadata": {},
          "execution_count": 7
        }
      ],
      "source": [
        "X.head"
      ]
    },
    {
      "cell_type": "code",
      "execution_count": 8,
      "metadata": {
        "id": "0aJq-seT29tM",
        "colab": {
          "base_uri": "https://localhost:8080/"
        },
        "outputId": "7a82df96-9fa3-4970-c752-937401d7977f"
      },
      "outputs": [
        {
          "output_type": "execute_result",
          "data": {
            "text/plain": [
              "<bound method NDFrame.head of       fetal_health\n",
              "0              2.0\n",
              "1              1.0\n",
              "2              1.0\n",
              "3              1.0\n",
              "4              1.0\n",
              "...            ...\n",
              "2121           2.0\n",
              "2122           2.0\n",
              "2123           2.0\n",
              "2124           2.0\n",
              "2125           1.0\n",
              "\n",
              "[2126 rows x 1 columns]>"
            ]
          },
          "metadata": {},
          "execution_count": 8
        }
      ],
      "source": [
        "y.head"
      ]
    },
    {
      "cell_type": "code",
      "execution_count": 9,
      "metadata": {
        "id": "J_kvifl82-IS",
        "colab": {
          "base_uri": "https://localhost:8080/",
          "height": 381
        },
        "outputId": "691b53f6-8a88-4a4d-d05e-5886fca7bcab"
      },
      "outputs": [
        {
          "output_type": "execute_result",
          "data": {
            "text/html": [
              "\n",
              "  <div id=\"df-b1d8b365-101a-4d4c-b561-df97e8b1bc01\">\n",
              "    <div class=\"colab-df-container\">\n",
              "      <div>\n",
              "<style scoped>\n",
              "    .dataframe tbody tr th:only-of-type {\n",
              "        vertical-align: middle;\n",
              "    }\n",
              "\n",
              "    .dataframe tbody tr th {\n",
              "        vertical-align: top;\n",
              "    }\n",
              "\n",
              "    .dataframe thead th {\n",
              "        text-align: right;\n",
              "    }\n",
              "</style>\n",
              "<table border=\"1\" class=\"dataframe\">\n",
              "  <thead>\n",
              "    <tr style=\"text-align: right;\">\n",
              "      <th></th>\n",
              "      <th>baseline value</th>\n",
              "      <th>accelerations</th>\n",
              "      <th>fetal_movement</th>\n",
              "      <th>uterine_contractions</th>\n",
              "      <th>light_decelerations</th>\n",
              "      <th>severe_decelerations</th>\n",
              "      <th>prolongued_decelerations</th>\n",
              "      <th>abnormal_short_term_variability</th>\n",
              "      <th>mean_value_of_short_term_variability</th>\n",
              "      <th>percentage_of_time_with_abnormal_long_term_variability</th>\n",
              "      <th>mean_value_of_long_term_variability</th>\n",
              "      <th>histogram_width</th>\n",
              "      <th>histogram_min</th>\n",
              "      <th>histogram_max</th>\n",
              "      <th>histogram_number_of_peaks</th>\n",
              "      <th>histogram_number_of_zeroes</th>\n",
              "      <th>histogram_mode</th>\n",
              "      <th>histogram_mean</th>\n",
              "      <th>histogram_median</th>\n",
              "      <th>histogram_variance</th>\n",
              "      <th>histogram_tendency</th>\n",
              "    </tr>\n",
              "  </thead>\n",
              "  <tbody>\n",
              "    <tr>\n",
              "      <th>count</th>\n",
              "      <td>2126.000000</td>\n",
              "      <td>2126.000000</td>\n",
              "      <td>2126.000000</td>\n",
              "      <td>2126.000000</td>\n",
              "      <td>2126.000000</td>\n",
              "      <td>2126.000000</td>\n",
              "      <td>2126.000000</td>\n",
              "      <td>2126.000000</td>\n",
              "      <td>2126.000000</td>\n",
              "      <td>2126.00000</td>\n",
              "      <td>2126.000000</td>\n",
              "      <td>2126.000000</td>\n",
              "      <td>2126.000000</td>\n",
              "      <td>2126.000000</td>\n",
              "      <td>2126.000000</td>\n",
              "      <td>2126.000000</td>\n",
              "      <td>2126.000000</td>\n",
              "      <td>2126.000000</td>\n",
              "      <td>2126.000000</td>\n",
              "      <td>2126.000000</td>\n",
              "      <td>2126.000000</td>\n",
              "    </tr>\n",
              "    <tr>\n",
              "      <th>mean</th>\n",
              "      <td>133.303857</td>\n",
              "      <td>0.003178</td>\n",
              "      <td>0.009481</td>\n",
              "      <td>0.004366</td>\n",
              "      <td>0.001889</td>\n",
              "      <td>0.000003</td>\n",
              "      <td>0.000159</td>\n",
              "      <td>46.990122</td>\n",
              "      <td>1.332785</td>\n",
              "      <td>9.84666</td>\n",
              "      <td>8.187629</td>\n",
              "      <td>70.445908</td>\n",
              "      <td>93.579492</td>\n",
              "      <td>164.025400</td>\n",
              "      <td>4.068203</td>\n",
              "      <td>0.323612</td>\n",
              "      <td>137.452023</td>\n",
              "      <td>134.610536</td>\n",
              "      <td>138.090310</td>\n",
              "      <td>18.808090</td>\n",
              "      <td>0.320320</td>\n",
              "    </tr>\n",
              "    <tr>\n",
              "      <th>std</th>\n",
              "      <td>9.840844</td>\n",
              "      <td>0.003866</td>\n",
              "      <td>0.046666</td>\n",
              "      <td>0.002946</td>\n",
              "      <td>0.002960</td>\n",
              "      <td>0.000057</td>\n",
              "      <td>0.000590</td>\n",
              "      <td>17.192814</td>\n",
              "      <td>0.883241</td>\n",
              "      <td>18.39688</td>\n",
              "      <td>5.628247</td>\n",
              "      <td>38.955693</td>\n",
              "      <td>29.560212</td>\n",
              "      <td>17.944183</td>\n",
              "      <td>2.949386</td>\n",
              "      <td>0.706059</td>\n",
              "      <td>16.381289</td>\n",
              "      <td>15.593596</td>\n",
              "      <td>14.466589</td>\n",
              "      <td>28.977636</td>\n",
              "      <td>0.610829</td>\n",
              "    </tr>\n",
              "    <tr>\n",
              "      <th>min</th>\n",
              "      <td>106.000000</td>\n",
              "      <td>0.000000</td>\n",
              "      <td>0.000000</td>\n",
              "      <td>0.000000</td>\n",
              "      <td>0.000000</td>\n",
              "      <td>0.000000</td>\n",
              "      <td>0.000000</td>\n",
              "      <td>12.000000</td>\n",
              "      <td>0.200000</td>\n",
              "      <td>0.00000</td>\n",
              "      <td>0.000000</td>\n",
              "      <td>3.000000</td>\n",
              "      <td>50.000000</td>\n",
              "      <td>122.000000</td>\n",
              "      <td>0.000000</td>\n",
              "      <td>0.000000</td>\n",
              "      <td>60.000000</td>\n",
              "      <td>73.000000</td>\n",
              "      <td>77.000000</td>\n",
              "      <td>0.000000</td>\n",
              "      <td>-1.000000</td>\n",
              "    </tr>\n",
              "    <tr>\n",
              "      <th>25%</th>\n",
              "      <td>126.000000</td>\n",
              "      <td>0.000000</td>\n",
              "      <td>0.000000</td>\n",
              "      <td>0.002000</td>\n",
              "      <td>0.000000</td>\n",
              "      <td>0.000000</td>\n",
              "      <td>0.000000</td>\n",
              "      <td>32.000000</td>\n",
              "      <td>0.700000</td>\n",
              "      <td>0.00000</td>\n",
              "      <td>4.600000</td>\n",
              "      <td>37.000000</td>\n",
              "      <td>67.000000</td>\n",
              "      <td>152.000000</td>\n",
              "      <td>2.000000</td>\n",
              "      <td>0.000000</td>\n",
              "      <td>129.000000</td>\n",
              "      <td>125.000000</td>\n",
              "      <td>129.000000</td>\n",
              "      <td>2.000000</td>\n",
              "      <td>0.000000</td>\n",
              "    </tr>\n",
              "    <tr>\n",
              "      <th>50%</th>\n",
              "      <td>133.000000</td>\n",
              "      <td>0.002000</td>\n",
              "      <td>0.000000</td>\n",
              "      <td>0.004000</td>\n",
              "      <td>0.000000</td>\n",
              "      <td>0.000000</td>\n",
              "      <td>0.000000</td>\n",
              "      <td>49.000000</td>\n",
              "      <td>1.200000</td>\n",
              "      <td>0.00000</td>\n",
              "      <td>7.400000</td>\n",
              "      <td>67.500000</td>\n",
              "      <td>93.000000</td>\n",
              "      <td>162.000000</td>\n",
              "      <td>3.000000</td>\n",
              "      <td>0.000000</td>\n",
              "      <td>139.000000</td>\n",
              "      <td>136.000000</td>\n",
              "      <td>139.000000</td>\n",
              "      <td>7.000000</td>\n",
              "      <td>0.000000</td>\n",
              "    </tr>\n",
              "    <tr>\n",
              "      <th>75%</th>\n",
              "      <td>140.000000</td>\n",
              "      <td>0.006000</td>\n",
              "      <td>0.003000</td>\n",
              "      <td>0.007000</td>\n",
              "      <td>0.003000</td>\n",
              "      <td>0.000000</td>\n",
              "      <td>0.000000</td>\n",
              "      <td>61.000000</td>\n",
              "      <td>1.700000</td>\n",
              "      <td>11.00000</td>\n",
              "      <td>10.800000</td>\n",
              "      <td>100.000000</td>\n",
              "      <td>120.000000</td>\n",
              "      <td>174.000000</td>\n",
              "      <td>6.000000</td>\n",
              "      <td>0.000000</td>\n",
              "      <td>148.000000</td>\n",
              "      <td>145.000000</td>\n",
              "      <td>148.000000</td>\n",
              "      <td>24.000000</td>\n",
              "      <td>1.000000</td>\n",
              "    </tr>\n",
              "    <tr>\n",
              "      <th>max</th>\n",
              "      <td>160.000000</td>\n",
              "      <td>0.019000</td>\n",
              "      <td>0.481000</td>\n",
              "      <td>0.015000</td>\n",
              "      <td>0.015000</td>\n",
              "      <td>0.001000</td>\n",
              "      <td>0.005000</td>\n",
              "      <td>87.000000</td>\n",
              "      <td>7.000000</td>\n",
              "      <td>91.00000</td>\n",
              "      <td>50.700000</td>\n",
              "      <td>180.000000</td>\n",
              "      <td>159.000000</td>\n",
              "      <td>238.000000</td>\n",
              "      <td>18.000000</td>\n",
              "      <td>10.000000</td>\n",
              "      <td>187.000000</td>\n",
              "      <td>182.000000</td>\n",
              "      <td>186.000000</td>\n",
              "      <td>269.000000</td>\n",
              "      <td>1.000000</td>\n",
              "    </tr>\n",
              "  </tbody>\n",
              "</table>\n",
              "</div>\n",
              "      <button class=\"colab-df-convert\" onclick=\"convertToInteractive('df-b1d8b365-101a-4d4c-b561-df97e8b1bc01')\"\n",
              "              title=\"Convert this dataframe to an interactive table.\"\n",
              "              style=\"display:none;\">\n",
              "        \n",
              "  <svg xmlns=\"http://www.w3.org/2000/svg\" height=\"24px\"viewBox=\"0 0 24 24\"\n",
              "       width=\"24px\">\n",
              "    <path d=\"M0 0h24v24H0V0z\" fill=\"none\"/>\n",
              "    <path d=\"M18.56 5.44l.94 2.06.94-2.06 2.06-.94-2.06-.94-.94-2.06-.94 2.06-2.06.94zm-11 1L8.5 8.5l.94-2.06 2.06-.94-2.06-.94L8.5 2.5l-.94 2.06-2.06.94zm10 10l.94 2.06.94-2.06 2.06-.94-2.06-.94-.94-2.06-.94 2.06-2.06.94z\"/><path d=\"M17.41 7.96l-1.37-1.37c-.4-.4-.92-.59-1.43-.59-.52 0-1.04.2-1.43.59L10.3 9.45l-7.72 7.72c-.78.78-.78 2.05 0 2.83L4 21.41c.39.39.9.59 1.41.59.51 0 1.02-.2 1.41-.59l7.78-7.78 2.81-2.81c.8-.78.8-2.07 0-2.86zM5.41 20L4 18.59l7.72-7.72 1.47 1.35L5.41 20z\"/>\n",
              "  </svg>\n",
              "      </button>\n",
              "      \n",
              "  <style>\n",
              "    .colab-df-container {\n",
              "      display:flex;\n",
              "      flex-wrap:wrap;\n",
              "      gap: 12px;\n",
              "    }\n",
              "\n",
              "    .colab-df-convert {\n",
              "      background-color: #E8F0FE;\n",
              "      border: none;\n",
              "      border-radius: 50%;\n",
              "      cursor: pointer;\n",
              "      display: none;\n",
              "      fill: #1967D2;\n",
              "      height: 32px;\n",
              "      padding: 0 0 0 0;\n",
              "      width: 32px;\n",
              "    }\n",
              "\n",
              "    .colab-df-convert:hover {\n",
              "      background-color: #E2EBFA;\n",
              "      box-shadow: 0px 1px 2px rgba(60, 64, 67, 0.3), 0px 1px 3px 1px rgba(60, 64, 67, 0.15);\n",
              "      fill: #174EA6;\n",
              "    }\n",
              "\n",
              "    [theme=dark] .colab-df-convert {\n",
              "      background-color: #3B4455;\n",
              "      fill: #D2E3FC;\n",
              "    }\n",
              "\n",
              "    [theme=dark] .colab-df-convert:hover {\n",
              "      background-color: #434B5C;\n",
              "      box-shadow: 0px 1px 3px 1px rgba(0, 0, 0, 0.15);\n",
              "      filter: drop-shadow(0px 1px 2px rgba(0, 0, 0, 0.3));\n",
              "      fill: #FFFFFF;\n",
              "    }\n",
              "  </style>\n",
              "\n",
              "      <script>\n",
              "        const buttonEl =\n",
              "          document.querySelector('#df-b1d8b365-101a-4d4c-b561-df97e8b1bc01 button.colab-df-convert');\n",
              "        buttonEl.style.display =\n",
              "          google.colab.kernel.accessAllowed ? 'block' : 'none';\n",
              "\n",
              "        async function convertToInteractive(key) {\n",
              "          const element = document.querySelector('#df-b1d8b365-101a-4d4c-b561-df97e8b1bc01');\n",
              "          const dataTable =\n",
              "            await google.colab.kernel.invokeFunction('convertToInteractive',\n",
              "                                                     [key], {});\n",
              "          if (!dataTable) return;\n",
              "\n",
              "          const docLinkHtml = 'Like what you see? Visit the ' +\n",
              "            '<a target=\"_blank\" href=https://colab.research.google.com/notebooks/data_table.ipynb>data table notebook</a>'\n",
              "            + ' to learn more about interactive tables.';\n",
              "          element.innerHTML = '';\n",
              "          dataTable['output_type'] = 'display_data';\n",
              "          await google.colab.output.renderOutput(dataTable, element);\n",
              "          const docLink = document.createElement('div');\n",
              "          docLink.innerHTML = docLinkHtml;\n",
              "          element.appendChild(docLink);\n",
              "        }\n",
              "      </script>\n",
              "    </div>\n",
              "  </div>\n",
              "  "
            ],
            "text/plain": [
              "       baseline value  accelerations  ...  histogram_variance  histogram_tendency\n",
              "count     2126.000000    2126.000000  ...         2126.000000         2126.000000\n",
              "mean       133.303857       0.003178  ...           18.808090            0.320320\n",
              "std          9.840844       0.003866  ...           28.977636            0.610829\n",
              "min        106.000000       0.000000  ...            0.000000           -1.000000\n",
              "25%        126.000000       0.000000  ...            2.000000            0.000000\n",
              "50%        133.000000       0.002000  ...            7.000000            0.000000\n",
              "75%        140.000000       0.006000  ...           24.000000            1.000000\n",
              "max        160.000000       0.019000  ...          269.000000            1.000000\n",
              "\n",
              "[8 rows x 21 columns]"
            ]
          },
          "metadata": {},
          "execution_count": 9
        }
      ],
      "source": [
        "X.describe()"
      ]
    },
    {
      "cell_type": "markdown",
      "metadata": {
        "id": "dP57R2Sn5ZxJ"
      },
      "source": [
        "Today, our focus is to learn about ensemble methods, so we would not focus on many data exploration strategies, but let's try to investigate a few things. First, let's check if the labels are balanced or not. "
      ]
    },
    {
      "cell_type": "code",
      "execution_count": 10,
      "metadata": {
        "id": "4Z-EY7ES5Y6A",
        "colab": {
          "base_uri": "https://localhost:8080/",
          "height": 285
        },
        "outputId": "006ace8c-2a71-4538-fd97-57309deca6f1"
      },
      "outputs": [
        {
          "output_type": "display_data",
          "data": {
            "image/png": "[encoded data removed]",
            "text/plain": [
              "<Figure size 432x288 with 1 Axes>"
            ]
          },
          "metadata": {}
        }
      ],
      "source": [
        "# countplot\n",
        "sns.set_theme(style=\"darkgrid\")\n",
        "ax = sns.countplot(x=\"fetal_health\", data=data)"
      ]
    },
    {
      "cell_type": "code",
      "execution_count": 11,
      "metadata": {
        "id": "pgSk35Su6JJn",
        "colab": {
          "base_uri": "https://localhost:8080/"
        },
        "outputId": "32d42426-08ec-4d40-bf94-017674b4e0e4"
      },
      "outputs": [
        {
          "output_type": "execute_result",
          "data": {
            "text/plain": [
              "fetal_health\n",
              "1.0             1655\n",
              "2.0              295\n",
              "3.0              176\n",
              "dtype: int64"
            ]
          },
          "metadata": {},
          "execution_count": 11
        }
      ],
      "source": [
        "y.value_counts()"
      ]
    },
    {
      "cell_type": "markdown",
      "metadata": {
        "id": "KDgtM6oA6Anv"
      },
      "source": [
        "It is natural that the normal cases are most common. It might lead to higher accuracy too, as label 1 keeps about 78% of the whole dataset. However, to make a robust model that does not have any relationship with the distribution the dataset typically has, we may need to consider it so the model should not be biased towards the normal cases."
      ]
    },
    {
      "cell_type": "code",
      "execution_count": 12,
      "metadata": {
        "id": "NBsLQGlR5FRF",
        "colab": {
          "base_uri": "https://localhost:8080/"
        },
        "outputId": "153455b9-114a-4450-bd78-61de6bde2fa7"
      },
      "outputs": [
        {
          "output_type": "execute_result",
          "data": {
            "text/plain": [
              "baseline value                                            0\n",
              "accelerations                                             0\n",
              "fetal_movement                                            0\n",
              "uterine_contractions                                      0\n",
              "light_decelerations                                       0\n",
              "severe_decelerations                                      0\n",
              "prolongued_decelerations                                  0\n",
              "abnormal_short_term_variability                           0\n",
              "mean_value_of_short_term_variability                      0\n",
              "percentage_of_time_with_abnormal_long_term_variability    0\n",
              "mean_value_of_long_term_variability                       0\n",
              "histogram_width                                           0\n",
              "histogram_min                                             0\n",
              "histogram_max                                             0\n",
              "histogram_number_of_peaks                                 0\n",
              "histogram_number_of_zeroes                                0\n",
              "histogram_mode                                            0\n",
              "histogram_mean                                            0\n",
              "histogram_median                                          0\n",
              "histogram_variance                                        0\n",
              "histogram_tendency                                        0\n",
              "fetal_health                                              0\n",
              "dtype: int64"
            ]
          },
          "metadata": {},
          "execution_count": 12
        }
      ],
      "source": [
        "data.isna().sum()"
      ]
    },
    {
      "cell_type": "code",
      "execution_count": 13,
      "metadata": {
        "id": "wOMY6_Pv6YhW",
        "colab": {
          "base_uri": "https://localhost:8080/",
          "height": 505
        },
        "outputId": "52aa7a68-8f6b-4de7-f10b-0babea62187d"
      },
      "outputs": [
        {
          "output_type": "execute_result",
          "data": {
            "text/html": [
              "\n",
              "  <div id=\"df-498ac261-6407-4cf0-8a6b-072f64d184fc\">\n",
              "    <div class=\"colab-df-container\">\n",
              "      <div>\n",
              "<style scoped>\n",
              "    .dataframe tbody tr th:only-of-type {\n",
              "        vertical-align: middle;\n",
              "    }\n",
              "\n",
              "    .dataframe tbody tr th {\n",
              "        vertical-align: top;\n",
              "    }\n",
              "\n",
              "    .dataframe thead th {\n",
              "        text-align: right;\n",
              "    }\n",
              "</style>\n",
              "<table border=\"1\" class=\"dataframe\">\n",
              "  <thead>\n",
              "    <tr style=\"text-align: right;\">\n",
              "      <th></th>\n",
              "      <th>baseline value</th>\n",
              "      <th>accelerations</th>\n",
              "      <th>fetal_movement</th>\n",
              "      <th>uterine_contractions</th>\n",
              "      <th>light_decelerations</th>\n",
              "      <th>severe_decelerations</th>\n",
              "      <th>prolongued_decelerations</th>\n",
              "      <th>abnormal_short_term_variability</th>\n",
              "      <th>mean_value_of_short_term_variability</th>\n",
              "      <th>percentage_of_time_with_abnormal_long_term_variability</th>\n",
              "      <th>mean_value_of_long_term_variability</th>\n",
              "      <th>histogram_width</th>\n",
              "      <th>histogram_min</th>\n",
              "      <th>histogram_max</th>\n",
              "      <th>histogram_number_of_peaks</th>\n",
              "      <th>histogram_number_of_zeroes</th>\n",
              "      <th>histogram_mode</th>\n",
              "      <th>histogram_mean</th>\n",
              "      <th>histogram_median</th>\n",
              "      <th>histogram_variance</th>\n",
              "      <th>histogram_tendency</th>\n",
              "      <th>fetal_health</th>\n",
              "    </tr>\n",
              "  </thead>\n",
              "  <tbody>\n",
              "    <tr>\n",
              "      <th>0</th>\n",
              "      <td>120.0</td>\n",
              "      <td>0.000</td>\n",
              "      <td>0.000</td>\n",
              "      <td>0.000</td>\n",
              "      <td>0.000</td>\n",
              "      <td>0.0</td>\n",
              "      <td>0.0</td>\n",
              "      <td>73.0</td>\n",
              "      <td>0.5</td>\n",
              "      <td>43.0</td>\n",
              "      <td>2.4</td>\n",
              "      <td>64.0</td>\n",
              "      <td>62.0</td>\n",
              "      <td>126.0</td>\n",
              "      <td>2.0</td>\n",
              "      <td>0.0</td>\n",
              "      <td>120.0</td>\n",
              "      <td>137.0</td>\n",
              "      <td>121.0</td>\n",
              "      <td>73.0</td>\n",
              "      <td>1.0</td>\n",
              "      <td>2.0</td>\n",
              "    </tr>\n",
              "    <tr>\n",
              "      <th>1</th>\n",
              "      <td>132.0</td>\n",
              "      <td>0.006</td>\n",
              "      <td>0.000</td>\n",
              "      <td>0.006</td>\n",
              "      <td>0.003</td>\n",
              "      <td>0.0</td>\n",
              "      <td>0.0</td>\n",
              "      <td>17.0</td>\n",
              "      <td>2.1</td>\n",
              "      <td>0.0</td>\n",
              "      <td>10.4</td>\n",
              "      <td>130.0</td>\n",
              "      <td>68.0</td>\n",
              "      <td>198.0</td>\n",
              "      <td>6.0</td>\n",
              "      <td>1.0</td>\n",
              "      <td>141.0</td>\n",
              "      <td>136.0</td>\n",
              "      <td>140.0</td>\n",
              "      <td>12.0</td>\n",
              "      <td>0.0</td>\n",
              "      <td>1.0</td>\n",
              "    </tr>\n",
              "    <tr>\n",
              "      <th>2</th>\n",
              "      <td>133.0</td>\n",
              "      <td>0.003</td>\n",
              "      <td>0.000</td>\n",
              "      <td>0.008</td>\n",
              "      <td>0.003</td>\n",
              "      <td>0.0</td>\n",
              "      <td>0.0</td>\n",
              "      <td>16.0</td>\n",
              "      <td>2.1</td>\n",
              "      <td>0.0</td>\n",
              "      <td>13.4</td>\n",
              "      <td>130.0</td>\n",
              "      <td>68.0</td>\n",
              "      <td>198.0</td>\n",
              "      <td>5.0</td>\n",
              "      <td>1.0</td>\n",
              "      <td>141.0</td>\n",
              "      <td>135.0</td>\n",
              "      <td>138.0</td>\n",
              "      <td>13.0</td>\n",
              "      <td>0.0</td>\n",
              "      <td>1.0</td>\n",
              "    </tr>\n",
              "    <tr>\n",
              "      <th>3</th>\n",
              "      <td>134.0</td>\n",
              "      <td>0.003</td>\n",
              "      <td>0.000</td>\n",
              "      <td>0.008</td>\n",
              "      <td>0.003</td>\n",
              "      <td>0.0</td>\n",
              "      <td>0.0</td>\n",
              "      <td>16.0</td>\n",
              "      <td>2.4</td>\n",
              "      <td>0.0</td>\n",
              "      <td>23.0</td>\n",
              "      <td>117.0</td>\n",
              "      <td>53.0</td>\n",
              "      <td>170.0</td>\n",
              "      <td>11.0</td>\n",
              "      <td>0.0</td>\n",
              "      <td>137.0</td>\n",
              "      <td>134.0</td>\n",
              "      <td>137.0</td>\n",
              "      <td>13.0</td>\n",
              "      <td>1.0</td>\n",
              "      <td>1.0</td>\n",
              "    </tr>\n",
              "    <tr>\n",
              "      <th>4</th>\n",
              "      <td>132.0</td>\n",
              "      <td>0.007</td>\n",
              "      <td>0.000</td>\n",
              "      <td>0.008</td>\n",
              "      <td>0.000</td>\n",
              "      <td>0.0</td>\n",
              "      <td>0.0</td>\n",
              "      <td>16.0</td>\n",
              "      <td>2.4</td>\n",
              "      <td>0.0</td>\n",
              "      <td>19.9</td>\n",
              "      <td>117.0</td>\n",
              "      <td>53.0</td>\n",
              "      <td>170.0</td>\n",
              "      <td>9.0</td>\n",
              "      <td>0.0</td>\n",
              "      <td>137.0</td>\n",
              "      <td>136.0</td>\n",
              "      <td>138.0</td>\n",
              "      <td>11.0</td>\n",
              "      <td>1.0</td>\n",
              "      <td>1.0</td>\n",
              "    </tr>\n",
              "    <tr>\n",
              "      <th>...</th>\n",
              "      <td>...</td>\n",
              "      <td>...</td>\n",
              "      <td>...</td>\n",
              "      <td>...</td>\n",
              "      <td>...</td>\n",
              "      <td>...</td>\n",
              "      <td>...</td>\n",
              "      <td>...</td>\n",
              "      <td>...</td>\n",
              "      <td>...</td>\n",
              "      <td>...</td>\n",
              "      <td>...</td>\n",
              "      <td>...</td>\n",
              "      <td>...</td>\n",
              "      <td>...</td>\n",
              "      <td>...</td>\n",
              "      <td>...</td>\n",
              "      <td>...</td>\n",
              "      <td>...</td>\n",
              "      <td>...</td>\n",
              "      <td>...</td>\n",
              "      <td>...</td>\n",
              "    </tr>\n",
              "    <tr>\n",
              "      <th>2121</th>\n",
              "      <td>140.0</td>\n",
              "      <td>0.000</td>\n",
              "      <td>0.000</td>\n",
              "      <td>0.007</td>\n",
              "      <td>0.000</td>\n",
              "      <td>0.0</td>\n",
              "      <td>0.0</td>\n",
              "      <td>79.0</td>\n",
              "      <td>0.2</td>\n",
              "      <td>25.0</td>\n",
              "      <td>7.2</td>\n",
              "      <td>40.0</td>\n",
              "      <td>137.0</td>\n",
              "      <td>177.0</td>\n",
              "      <td>4.0</td>\n",
              "      <td>0.0</td>\n",
              "      <td>153.0</td>\n",
              "      <td>150.0</td>\n",
              "      <td>152.0</td>\n",
              "      <td>2.0</td>\n",
              "      <td>0.0</td>\n",
              "      <td>2.0</td>\n",
              "    </tr>\n",
              "    <tr>\n",
              "      <th>2122</th>\n",
              "      <td>140.0</td>\n",
              "      <td>0.001</td>\n",
              "      <td>0.000</td>\n",
              "      <td>0.007</td>\n",
              "      <td>0.000</td>\n",
              "      <td>0.0</td>\n",
              "      <td>0.0</td>\n",
              "      <td>78.0</td>\n",
              "      <td>0.4</td>\n",
              "      <td>22.0</td>\n",
              "      <td>7.1</td>\n",
              "      <td>66.0</td>\n",
              "      <td>103.0</td>\n",
              "      <td>169.0</td>\n",
              "      <td>6.0</td>\n",
              "      <td>0.0</td>\n",
              "      <td>152.0</td>\n",
              "      <td>148.0</td>\n",
              "      <td>151.0</td>\n",
              "      <td>3.0</td>\n",
              "      <td>1.0</td>\n",
              "      <td>2.0</td>\n",
              "    </tr>\n",
              "    <tr>\n",
              "      <th>2123</th>\n",
              "      <td>140.0</td>\n",
              "      <td>0.001</td>\n",
              "      <td>0.000</td>\n",
              "      <td>0.007</td>\n",
              "      <td>0.000</td>\n",
              "      <td>0.0</td>\n",
              "      <td>0.0</td>\n",
              "      <td>79.0</td>\n",
              "      <td>0.4</td>\n",
              "      <td>20.0</td>\n",
              "      <td>6.1</td>\n",
              "      <td>67.0</td>\n",
              "      <td>103.0</td>\n",
              "      <td>170.0</td>\n",
              "      <td>5.0</td>\n",
              "      <td>0.0</td>\n",
              "      <td>153.0</td>\n",
              "      <td>148.0</td>\n",
              "      <td>152.0</td>\n",
              "      <td>4.0</td>\n",
              "      <td>1.0</td>\n",
              "      <td>2.0</td>\n",
              "    </tr>\n",
              "    <tr>\n",
              "      <th>2124</th>\n",
              "      <td>140.0</td>\n",
              "      <td>0.001</td>\n",
              "      <td>0.000</td>\n",
              "      <td>0.006</td>\n",
              "      <td>0.000</td>\n",
              "      <td>0.0</td>\n",
              "      <td>0.0</td>\n",
              "      <td>78.0</td>\n",
              "      <td>0.4</td>\n",
              "      <td>27.0</td>\n",
              "      <td>7.0</td>\n",
              "      <td>66.0</td>\n",
              "      <td>103.0</td>\n",
              "      <td>169.0</td>\n",
              "      <td>6.0</td>\n",
              "      <td>0.0</td>\n",
              "      <td>152.0</td>\n",
              "      <td>147.0</td>\n",
              "      <td>151.0</td>\n",
              "      <td>4.0</td>\n",
              "      <td>1.0</td>\n",
              "      <td>2.0</td>\n",
              "    </tr>\n",
              "    <tr>\n",
              "      <th>2125</th>\n",
              "      <td>142.0</td>\n",
              "      <td>0.002</td>\n",
              "      <td>0.002</td>\n",
              "      <td>0.008</td>\n",
              "      <td>0.000</td>\n",
              "      <td>0.0</td>\n",
              "      <td>0.0</td>\n",
              "      <td>74.0</td>\n",
              "      <td>0.4</td>\n",
              "      <td>36.0</td>\n",
              "      <td>5.0</td>\n",
              "      <td>42.0</td>\n",
              "      <td>117.0</td>\n",
              "      <td>159.0</td>\n",
              "      <td>2.0</td>\n",
              "      <td>1.0</td>\n",
              "      <td>145.0</td>\n",
              "      <td>143.0</td>\n",
              "      <td>145.0</td>\n",
              "      <td>1.0</td>\n",
              "      <td>0.0</td>\n",
              "      <td>1.0</td>\n",
              "    </tr>\n",
              "  </tbody>\n",
              "</table>\n",
              "<p>2113 rows × 22 columns</p>\n",
              "</div>\n",
              "      <button class=\"colab-df-convert\" onclick=\"convertToInteractive('df-498ac261-6407-4cf0-8a6b-072f64d184fc')\"\n",
              "              title=\"Convert this dataframe to an interactive table.\"\n",
              "              style=\"display:none;\">\n",
              "        \n",
              "  <svg xmlns=\"http://www.w3.org/2000/svg\" height=\"24px\"viewBox=\"0 0 24 24\"\n",
              "       width=\"24px\">\n",
              "    <path d=\"M0 0h24v24H0V0z\" fill=\"none\"/>\n",
              "    <path d=\"M18.56 5.44l.94 2.06.94-2.06 2.06-.94-2.06-.94-.94-2.06-.94 2.06-2.06.94zm-11 1L8.5 8.5l.94-2.06 2.06-.94-2.06-.94L8.5 2.5l-.94 2.06-2.06.94zm10 10l.94 2.06.94-2.06 2.06-.94-2.06-.94-.94-2.06-.94 2.06-2.06.94z\"/><path d=\"M17.41 7.96l-1.37-1.37c-.4-.4-.92-.59-1.43-.59-.52 0-1.04.2-1.43.59L10.3 9.45l-7.72 7.72c-.78.78-.78 2.05 0 2.83L4 21.41c.39.39.9.59 1.41.59.51 0 1.02-.2 1.41-.59l7.78-7.78 2.81-2.81c.8-.78.8-2.07 0-2.86zM5.41 20L4 18.59l7.72-7.72 1.47 1.35L5.41 20z\"/>\n",
              "  </svg>\n",
              "      </button>\n",
              "      \n",
              "  <style>\n",
              "    .colab-df-container {\n",
              "      display:flex;\n",
              "      flex-wrap:wrap;\n",
              "      gap: 12px;\n",
              "    }\n",
              "\n",
              "    .colab-df-convert {\n",
              "      background-color: #E8F0FE;\n",
              "      border: none;\n",
              "      border-radius: 50%;\n",
              "      cursor: pointer;\n",
              "      display: none;\n",
              "      fill: #1967D2;\n",
              "      height: 32px;\n",
              "      padding: 0 0 0 0;\n",
              "      width: 32px;\n",
              "    }\n",
              "\n",
              "    .colab-df-convert:hover {\n",
              "      background-color: #E2EBFA;\n",
              "      box-shadow: 0px 1px 2px rgba(60, 64, 67, 0.3), 0px 1px 3px 1px rgba(60, 64, 67, 0.15);\n",
              "      fill: #174EA6;\n",
              "    }\n",
              "\n",
              "    [theme=dark] .colab-df-convert {\n",
              "      background-color: #3B4455;\n",
              "      fill: #D2E3FC;\n",
              "    }\n",
              "\n",
              "    [theme=dark] .colab-df-convert:hover {\n",
              "      background-color: #434B5C;\n",
              "      box-shadow: 0px 1px 3px 1px rgba(0, 0, 0, 0.15);\n",
              "      filter: drop-shadow(0px 1px 2px rgba(0, 0, 0, 0.3));\n",
              "      fill: #FFFFFF;\n",
              "    }\n",
              "  </style>\n",
              "\n",
              "      <script>\n",
              "        const buttonEl =\n",
              "          document.querySelector('#df-498ac261-6407-4cf0-8a6b-072f64d184fc button.colab-df-convert');\n",
              "        buttonEl.style.display =\n",
              "          google.colab.kernel.accessAllowed ? 'block' : 'none';\n",
              "\n",
              "        async function convertToInteractive(key) {\n",
              "          const element = document.querySelector('#df-498ac261-6407-4cf0-8a6b-072f64d184fc');\n",
              "          const dataTable =\n",
              "            await google.colab.kernel.invokeFunction('convertToInteractive',\n",
              "                                                     [key], {});\n",
              "          if (!dataTable) return;\n",
              "\n",
              "          const docLinkHtml = 'Like what you see? Visit the ' +\n",
              "            '<a target=\"_blank\" href=https://colab.research.google.com/notebooks/data_table.ipynb>data table notebook</a>'\n",
              "            + ' to learn more about interactive tables.';\n",
              "          element.innerHTML = '';\n",
              "          dataTable['output_type'] = 'display_data';\n",
              "          await google.colab.output.renderOutput(dataTable, element);\n",
              "          const docLink = document.createElement('div');\n",
              "          docLink.innerHTML = docLinkHtml;\n",
              "          element.appendChild(docLink);\n",
              "        }\n",
              "      </script>\n",
              "    </div>\n",
              "  </div>\n",
              "  "
            ],
            "text/plain": [
              "      baseline value  accelerations  ...  histogram_tendency  fetal_health\n",
              "0              120.0          0.000  ...                 1.0           2.0\n",
              "1              132.0          0.006  ...                 0.0           1.0\n",
              "2              133.0          0.003  ...                 0.0           1.0\n",
              "3              134.0          0.003  ...                 1.0           1.0\n",
              "4              132.0          0.007  ...                 1.0           1.0\n",
              "...              ...            ...  ...                 ...           ...\n",
              "2121           140.0          0.000  ...                 0.0           2.0\n",
              "2122           140.0          0.001  ...                 1.0           2.0\n",
              "2123           140.0          0.001  ...                 1.0           2.0\n",
              "2124           140.0          0.001  ...                 1.0           2.0\n",
              "2125           142.0          0.002  ...                 0.0           1.0\n",
              "\n",
              "[2113 rows x 22 columns]"
            ]
          },
          "metadata": {},
          "execution_count": 13
        }
      ],
      "source": [
        "# duplicated, drop_duplicates - Duplication check\n",
        "data.drop_duplicates()"
      ]
    },
    {
      "cell_type": "code",
      "execution_count": 14,
      "metadata": {
        "id": "F_FYnSlJ6cDO",
        "colab": {
          "base_uri": "https://localhost:8080/",
          "height": 903
        },
        "outputId": "6514f0c3-1412-4e2a-86d4-806e4920f3e6"
      },
      "outputs": [
        {
          "output_type": "display_data",
          "data": {
            "image/png": "[encoded data removed]",
            "text/plain": [
              "<Figure size 1080x720 with 2 Axes>"
            ]
          },
          "metadata": {}
        }
      ],
      "source": [
        "# Correlation check - among the features\n",
        "mat = X.corr()\n",
        "mask = np.triu(np.ones_like(mat, dtype=bool))\n",
        "fig, ax = plt.subplots(figsize = (15,10))\n",
        "ax = sns.heatmap(mat, mask=mask, annot = True, linewidths=0.5, fmt = \".2f\", square=True)"
      ]
    },
    {
      "cell_type": "markdown",
      "metadata": {
        "id": "4saAzN1ZDk2h"
      },
      "source": [
        "We may need to apply **1) standardization** and **2) Oversampling the minority** for better performance. We might be able to apply those methods one by one, but it will be better to streamline things into one pipeline. "
      ]
    },
    {
      "cell_type": "code",
      "execution_count": 15,
      "metadata": {
        "id": "PGum53ehKyiX",
        "colab": {
          "base_uri": "https://localhost:8080/",
          "height": 737
        },
        "outputId": "209ee97d-6cea-42dc-aa53-1d15e2bf15a5"
      },
      "outputs": [
        {
          "output_type": "execute_result",
          "data": {
            "text/plain": [
              "(0.0, 22.0)"
            ]
          },
          "metadata": {},
          "execution_count": 15
        },
        {
          "output_type": "display_data",
          "data": {
            "image/png": "[encoded data removed]",
            "text/plain": [
              "<Figure size 360x864 with 2 Axes>"
            ]
          },
          "metadata": {}
        }
      ],
      "source": [
        "# Correlation check - features and the label\n",
        "plt.figure(figsize=(5, 12))\n",
        "heatmap = sns.heatmap(data.corr()[['fetal_health']].sort_values(by='fetal_health', ascending=True), fmt=\"0.2f\", annot=True)\n",
        "heatmap.set_title('Features correlating with the label')\n",
        "heatmap.set_ylim([0,22])"
      ]
    },
    {
      "cell_type": "markdown",
      "metadata": {
        "id": "rlca_fmTIlYX"
      },
      "source": [
        "### 2. Preprocessing"
      ]
    },
    {
      "cell_type": "markdown",
      "metadata": {
        "id": "pSAGFwQFxNUx"
      },
      "source": [
        "After dividing the dataset into multiple parts, preprocessing like standardization or over-sampling should be applied. If not, we will end up with a cheating model that already knows part of the test information."
      ]
    },
    {
      "cell_type": "code",
      "execution_count": 16,
      "metadata": {
        "id": "hplPyaemyLLe"
      },
      "outputs": [],
      "source": [
        "# train_test_split with stratification, test size=0.3\n",
        "X_train, X_test, y_train, y_test=train_test_split(X,y,test_size=0.3, random_state=42)"
      ]
    },
    {
      "cell_type": "markdown",
      "metadata": {
        "id": "Rrh8dTwXLKCv"
      },
      "source": [
        "We can simply apply the standardization function we made in the previous lab or scikit-learn's method to standardize the dataset. This time, let's stick to scikit-learn. You can use scikit-learn's **StandardScaler** to apply standardization (= set the mean and the standard "
      ]
    },
    {
      "cell_type": "code",
      "execution_count": 17,
      "metadata": {
        "id": "fWsclwE6LJUv"
      },
      "outputs": [],
      "source": [
        "# StandardScaler\n",
        "scalar = StandardScaler(with_mean=True, with_std=True)\n",
        "X_train_scaled = scalar.fit_transform(X_train)\n",
        "X_train_scaled = pd.DataFrame(data=X_train_scaled,columns=X_train.columns)\n",
        "X_test_scaled = scalar.fit_transform(X_test)\n",
        "X_test_scaled = pd.DataFrame(data=X_test_scaled, columns=X_test.columns)"
      ]
    },
    {
      "cell_type": "code",
      "execution_count": 18,
      "metadata": {
        "id": "l9FU--cqKwcx",
        "colab": {
          "base_uri": "https://localhost:8080/"
        },
        "outputId": "a456cc6b-df3b-4538-a074-34af7b6764eb"
      },
      "outputs": [
        {
          "output_type": "stream",
          "name": "stdout",
          "text": [
            "Scaled trained data\n",
            "\n",
            "       baseline value  accelerations  ...  histogram_variance  histogram_tendency\n",
            "count    1.488000e+03   1.488000e+03  ...        1.488000e+03        1.488000e+03\n",
            "mean    -7.981966e-16   6.849360e-17  ...        7.147807e-17        2.068238e-16\n",
            "std      1.000336e+00   1.000336e+00  ...        1.000336e+00        1.000336e+00\n",
            "min     -2.719876e+00  -8.332572e-01  ...       -6.485103e-01       -2.161711e+00\n",
            "25%     -7.091569e-01  -8.332572e-01  ...       -5.807494e-01       -5.197374e-01\n",
            "50%     -5.405159e-03  -3.219637e-01  ...       -4.113471e-01       -5.197374e-01\n",
            "75%      6.983466e-01   7.006233e-01  ...        1.646208e-01        1.122236e+00\n",
            "max      2.709066e+00   3.768384e+00  ...        8.465334e+00        1.122236e+00\n",
            "\n",
            "[8 rows x 21 columns]\n",
            "\n",
            "\n",
            "Scaled test data\n",
            "       baseline value  accelerations  ...  histogram_variance  histogram_tendency\n",
            "count    6.380000e+02   6.380000e+02  ...        6.380000e+02        6.380000e+02\n",
            "mean    -1.105699e-15  -9.744904e-18  ...        1.056931e-16       -4.942059e-17\n",
            "std      1.000785e+00   1.000785e+00  ...        1.000785e+00        1.000785e+00\n",
            "min     -2.499668e+00  -7.979174e-01  ...       -6.522901e-01       -2.163153e+00\n",
            "25%     -7.207049e-01  -7.979174e-01  ...       -5.799395e-01       -5.356864e-01\n",
            "50%     -9.283545e-02  -5.309686e-01  ...       -3.990628e-01       -5.356864e-01\n",
            "75%      8.228075e-01   5.368264e-01  ...        1.797427e-01        1.091780e+00\n",
            "max      2.627932e+00   4.274109e+00  ...        8.536246e+00        1.091780e+00\n",
            "\n",
            "[8 rows x 21 columns]\n"
          ]
        }
      ],
      "source": [
        "# describe - standardized mean and standard deviation\n",
        "print(\"Scaled trained data\\n\")\n",
        "print(X_train_scaled.describe())\n",
        "print(\"\\n\\nScaled test data\")\n",
        "print(X_test_scaled.describe())"
      ]
    },
    {
      "cell_type": "code",
      "execution_count": 19,
      "metadata": {
        "id": "bHwNizGYdh1B",
        "colab": {
          "base_uri": "https://localhost:8080/"
        },
        "outputId": "88623715-1d05-4e7e-c8e1-e5e7836312fc"
      },
      "outputs": [
        {
          "output_type": "execute_result",
          "data": {
            "text/plain": [
              "fetal_health\n",
              "1.0             1655\n",
              "2.0              295\n",
              "3.0              176\n",
              "dtype: int64"
            ]
          },
          "metadata": {},
          "execution_count": 19
        }
      ],
      "source": [
        "y.value_counts()"
      ]
    },
    {
      "cell_type": "markdown",
      "source": [
        "To over-sample the instances from the minority classes (2 and 3), we will use a new library called imblearn (which stands for Imbalanced learn). This library contains various classifiers and resampling methods for imbalanced datasets. Let's use the most straightforward method it has."
      ],
      "metadata": {
        "id": "-Xot1M96rCDO"
      }
    },
    {
      "cell_type": "code",
      "execution_count": 20,
      "metadata": {
        "id": "M9wIimtQZ318"
      },
      "outputs": [],
      "source": [
        "# RandomOverSampler\n",
        "# Create X_resampled, y_resampled\n",
        "# - fit_resample"
      ]
    },
    {
      "cell_type": "code",
      "execution_count": 21,
      "metadata": {
        "id": "SUjam7lPdhV-"
      },
      "outputs": [],
      "source": [
        "# value_counts"
      ]
    },
    {
      "cell_type": "markdown",
      "source": [
        "Unfortunately, this simple oversampler just duplicates the instances we already have. So we can regard that it's just a weighting factor putting more weights on the minority classes."
      ],
      "metadata": {
        "id": "bV0r2G6HvNBF"
      }
    },
    {
      "cell_type": "code",
      "source": [
        "fig, ax = plt.subplots(1, 2, figsize=[8, 4])\n",
        "ax[0].scatter(X_resampled.iloc[:, 0], X_resampled.iloc[:, 7], s=1)\n",
        "ax[1].scatter(X_train_scaled.iloc[:, 0], X_train_scaled.iloc[:, 7], s=1)\n",
        "ax[0].set_title(\"Resampled\")\n",
        "ax[1].set_title(\"Original\")\n",
        "plt.show()"
      ],
      "metadata": {
        "id": "I93xejvWuh42",
        "colab": {
          "base_uri": "https://localhost:8080/",
          "height": 494
        },
        "outputId": "3814aa70-2cd4-4e97-fb6a-0452259f7590"
      },
      "execution_count": 22,
      "outputs": [
        {
          "output_type": "error",
          "ename": "NameError",
          "evalue": "ignored",
          "traceback": [
            "\u001b[0;31m---------------------------------------------------------------------------\u001b[0m",
            "\u001b[0;31mNameError\u001b[0m                                 Traceback (most recent call last)",
            "\u001b[0;32m<ipython-input-22-605da064cab6>\u001b[0m in \u001b[0;36m<module>\u001b[0;34m()\u001b[0m\n\u001b[1;32m      1\u001b[0m \u001b[0mfig\u001b[0m\u001b[0;34m,\u001b[0m \u001b[0max\u001b[0m \u001b[0;34m=\u001b[0m \u001b[0mplt\u001b[0m\u001b[0;34m.\u001b[0m\u001b[0msubplots\u001b[0m\u001b[0;34m(\u001b[0m\u001b[0;36m1\u001b[0m\u001b[0;34m,\u001b[0m \u001b[0;36m2\u001b[0m\u001b[0;34m,\u001b[0m \u001b[0mfigsize\u001b[0m\u001b[0;34m=\u001b[0m\u001b[0;34m[\u001b[0m\u001b[0;36m8\u001b[0m\u001b[0;34m,\u001b[0m \u001b[0;36m4\u001b[0m\u001b[0;34m]\u001b[0m\u001b[0;34m)\u001b[0m\u001b[0;34m\u001b[0m\u001b[0;34m\u001b[0m\u001b[0m\n\u001b[0;32m----> 2\u001b[0;31m \u001b[0max\u001b[0m\u001b[0;34m[\u001b[0m\u001b[0;36m0\u001b[0m\u001b[0;34m]\u001b[0m\u001b[0;34m.\u001b[0m\u001b[0mscatter\u001b[0m\u001b[0;34m(\u001b[0m\u001b[0mX_resampled\u001b[0m\u001b[0;34m.\u001b[0m\u001b[0miloc\u001b[0m\u001b[0;34m[\u001b[0m\u001b[0;34m:\u001b[0m\u001b[0;34m,\u001b[0m \u001b[0;36m0\u001b[0m\u001b[0;34m]\u001b[0m\u001b[0;34m,\u001b[0m \u001b[0mX_resampled\u001b[0m\u001b[0;34m.\u001b[0m\u001b[0miloc\u001b[0m\u001b[0;34m[\u001b[0m\u001b[0;34m:\u001b[0m\u001b[0;34m,\u001b[0m \u001b[0;36m7\u001b[0m\u001b[0;34m]\u001b[0m\u001b[0;34m,\u001b[0m \u001b[0ms\u001b[0m\u001b[0;34m=\u001b[0m\u001b[0;36m1\u001b[0m\u001b[0;34m)\u001b[0m\u001b[0;34m\u001b[0m\u001b[0;34m\u001b[0m\u001b[0m\n\u001b[0m\u001b[1;32m      3\u001b[0m \u001b[0max\u001b[0m\u001b[0;34m[\u001b[0m\u001b[0;36m1\u001b[0m\u001b[0;34m]\u001b[0m\u001b[0;34m.\u001b[0m\u001b[0mscatter\u001b[0m\u001b[0;34m(\u001b[0m\u001b[0mX_train_scaled\u001b[0m\u001b[0;34m.\u001b[0m\u001b[0miloc\u001b[0m\u001b[0;34m[\u001b[0m\u001b[0;34m:\u001b[0m\u001b[0;34m,\u001b[0m \u001b[0;36m0\u001b[0m\u001b[0;34m]\u001b[0m\u001b[0;34m,\u001b[0m \u001b[0mX_train_scaled\u001b[0m\u001b[0;34m.\u001b[0m\u001b[0miloc\u001b[0m\u001b[0;34m[\u001b[0m\u001b[0;34m:\u001b[0m\u001b[0;34m,\u001b[0m \u001b[0;36m7\u001b[0m\u001b[0;34m]\u001b[0m\u001b[0;34m,\u001b[0m \u001b[0ms\u001b[0m\u001b[0;34m=\u001b[0m\u001b[0;36m1\u001b[0m\u001b[0;34m)\u001b[0m\u001b[0;34m\u001b[0m\u001b[0;34m\u001b[0m\u001b[0m\n\u001b[1;32m      4\u001b[0m \u001b[0max\u001b[0m\u001b[0;34m[\u001b[0m\u001b[0;36m0\u001b[0m\u001b[0;34m]\u001b[0m\u001b[0;34m.\u001b[0m\u001b[0mset_title\u001b[0m\u001b[0;34m(\u001b[0m\u001b[0;34m\"Resampled\"\u001b[0m\u001b[0;34m)\u001b[0m\u001b[0;34m\u001b[0m\u001b[0;34m\u001b[0m\u001b[0m\n\u001b[1;32m      5\u001b[0m \u001b[0max\u001b[0m\u001b[0;34m[\u001b[0m\u001b[0;36m1\u001b[0m\u001b[0;34m]\u001b[0m\u001b[0;34m.\u001b[0m\u001b[0mset_title\u001b[0m\u001b[0;34m(\u001b[0m\u001b[0;34m\"Original\"\u001b[0m\u001b[0;34m)\u001b[0m\u001b[0;34m\u001b[0m\u001b[0;34m\u001b[0m\u001b[0m\n",
            "\u001b[0;31mNameError\u001b[0m: name 'X_resampled' is not defined"
          ]
        },
        {
          "output_type": "display_data",
          "data": {
            "image/png": "[encoded data removed]",
            "text/plain": [
              "<Figure size 576x288 with 2 Axes>"
            ]
          },
          "metadata": {}
        }
      ]
    },
    {
      "cell_type": "markdown",
      "source": [
        "There are some more advanced techniques to resample such as **SMOTE** or **ADASYN**..."
      ],
      "metadata": {
        "id": "G706ULiIrDVR"
      }
    },
    {
      "cell_type": "code",
      "execution_count": null,
      "metadata": {
        "id": "gcEGJOYUd7SD"
      },
      "outputs": [],
      "source": [
        "# SMOTE, ADASYN\n",
        "# X_resampled_SMOTE, y_resampled_SMOTE\n",
        "\n",
        "# X_resampled_ADASYN, y_resampled_ADASYN\n"
      ]
    },
    {
      "cell_type": "code",
      "source": [
        "fig, ax = plt.subplots(1, 4, figsize=[12, 4])\n",
        "ax[0].scatter(X_resampled.iloc[:, 0], X_resampled.iloc[:, 7], s=2)\n",
        "ax[1].scatter(X_resampled_SMOTE.iloc[:, 0], X_resampled_SMOTE.iloc[:, 7], s=2)\n",
        "ax[2].scatter(X_resampled_ADASYN.iloc[:, 0], X_resampled_ADASYN.iloc[:, 7], s=2)\n",
        "ax[3].scatter(X_train_scaled.iloc[:, 0], X_train_scaled.iloc[:, 7], s=2)\n",
        "ax[0].set_title(\"Resampled_RANDOM\")\n",
        "ax[1].set_title(\"Resampled_SMOTE\")\n",
        "ax[2].set_title(\"Resampled_ADASYN\")\n",
        "ax[3].set_title(\"Original\")\n",
        "\n",
        "plt.show()"
      ],
      "metadata": {
        "id": "Zuj0PHSY0RdR"
      },
      "execution_count": null,
      "outputs": []
    },
    {
      "cell_type": "markdown",
      "source": [
        "Sometimes there have been some practices to keep the minority classes at most 50% of the majority (so in our case, classes 2 and 3 won't have more than 827 instances)."
      ],
      "metadata": {
        "id": "0guxBzplvghs"
      }
    },
    {
      "cell_type": "markdown",
      "metadata": {
        "id": "eojT20azePRl"
      },
      "source": [
        "### 3. Simple model - Decision Tree and Logistic Regression"
      ]
    },
    {
      "cell_type": "markdown",
      "metadata": {
        "id": "3j7_EKGveUWS"
      },
      "source": [
        "Before getting into today's topic, let's recap the topic we have learned before: how to create a scikit-learn model. We will create a decision tree and logistic regression models and compare their performances."
      ]
    },
    {
      "cell_type": "code",
      "execution_count": null,
      "metadata": {
        "id": "guLmgISCeOoP"
      },
      "outputs": [],
      "source": [
        "dt = DecisionTreeClassifier()\n",
        "lg = LogisticRegression()\n",
        "dt.fit(X_train_scaled, y_train)\n",
        "lg.fit(X_train_scaled, y_train)\n",
        "print(dt.score(X_test_scaled, y_test), lg.score(X_test_scaled, y_test))\n",
        "print(classification_report(y_test, dt.predict(X_test_scaled)))"
      ]
    },
    {
      "cell_type": "code",
      "source": [
        "dt.fit(X_resampled_ADASYN, y_resampled_ADASYN)\n",
        "lg.fit(X_resampled_ADASYN, y_resampled_ADASYN)\n",
        "print(dt.score(X_test_scaled, y_test), lg.score(X_test_scaled, y_test))\n",
        "print(classification_report(y_test, dt.predict(X_test_scaled)))"
      ],
      "metadata": {
        "id": "tUaL1mOA8ueL"
      },
      "execution_count": null,
      "outputs": []
    },
    {
      "cell_type": "markdown",
      "metadata": {
        "id": "UC6nI2oJ-LBD"
      },
      "source": [
        "Those are our basic performance scores."
      ]
    },
    {
      "cell_type": "markdown",
      "metadata": {
        "id": "h0M6lG18Ipq1"
      },
      "source": [
        "### 4. Ensemble methods"
      ]
    },
    {
      "cell_type": "markdown",
      "metadata": {
        "id": "pHaxG_ukskn2"
      },
      "source": [
        "We may use some ensemble methods that were covered in the lecture. To just use those models, we can still stick to the standard scikit-learn process. Random forests and AdaBoost are supported by scikit-learn. However, you need a separate library for XGBoost."
      ]
    },
    {
      "cell_type": "markdown",
      "metadata": {
        "id": "rMoWNzRkvnJj"
      },
      "source": [
        "#### Random forests"
      ]
    },
    {
      "cell_type": "code",
      "execution_count": null,
      "metadata": {
        "id": "5Yx_M5RjvmAQ"
      },
      "outputs": [],
      "source": [
        "# RandomForestClassifier"
      ]
    },
    {
      "cell_type": "markdown",
      "metadata": {
        "id": "ChXrQ0xivpRG"
      },
      "source": [
        "#### AdaBoost - Various classifiers"
      ]
    },
    {
      "cell_type": "markdown",
      "source": [
        "AdaBoost is a normal boosting algorithm, creating multiple weak learners throughout multiple phases - so each phase is dependent on the previous one. Since the weight can be applied to any classifier, you can change the base classifier as you want."
      ],
      "metadata": {
        "id": "3UzfFnqvnFcw"
      }
    },
    {
      "cell_type": "code",
      "execution_count": null,
      "metadata": {
        "id": "mezTd-Pdsj54"
      },
      "outputs": [],
      "source": [
        "# AdaBoostClasifier\n",
        "# - base_estimator"
      ]
    },
    {
      "cell_type": "code",
      "source": [
        "# - base_estimator = LogisticRegression()"
      ],
      "metadata": {
        "id": "lih3VP-h4oBJ"
      },
      "execution_count": null,
      "outputs": []
    },
    {
      "cell_type": "markdown",
      "metadata": {
        "id": "FJRjR3zxvr1-"
      },
      "source": [
        "#### XGBoost"
      ]
    },
    {
      "cell_type": "markdown",
      "source": [
        "XGBoost is a decision-tree-based gradient boosting classifier with more advanced tricks inside to make itself a more scalable and better performance. The key differences are as follows:\n",
        "\n",
        " - An improved data structure for better utilization such as sparse matrices\n",
        " - Better support for multicore processing.\n",
        " - L1/L2 regularization\n",
        " - Tree-node dropout"
      ],
      "metadata": {
        "id": "po5fn6A9hmhZ"
      }
    },
    {
      "cell_type": "code",
      "execution_count": null,
      "metadata": {
        "id": "a7W8wu0I_3n4"
      },
      "outputs": [],
      "source": [
        "# - XGBoost"
      ]
    },
    {
      "cell_type": "markdown",
      "source": [
        "XGBoost also supports to handle imbalanced datasets by putting different weights based on the class distribution. For more details, [check this article](https://machinelearningmastery.com/xgboost-for-imbalanced-classification/).\n"
      ],
      "metadata": {
        "id": "ADVOW32-1Zwn"
      }
    },
    {
      "cell_type": "markdown",
      "metadata": {
        "id": "qsbMOCTFkE2L"
      },
      "source": [
        "### 5. Grid search and Randomized search"
      ]
    },
    {
      "cell_type": "markdown",
      "metadata": {
        "id": "4R2DsUnVmyuX"
      },
      "source": [
        "#### Grid search\n",
        "\n",
        "Grid search is a method of tuning the optimal hyperparameter value by trying all possible combinations of the parameters of interest, provided by scikit-learn of python. Grid search has the disadvantage of being very expensive and time-consuming to calculate because it evaluates all combinations.\n",
        "\n",
        "#### Randomized search\n",
        "\n",
        "Randomized search finds optimal hyperparameter values by generating random numbers within a specified range. Hyperparameters are of different relative importance, and random searches are advantageous for optimization because more important parameters can be explored. In fact, there are also indicators that random searches in papers yield better results with fewer search opportunities. Random Search can stop searching at any time. This is because even if you stop in the middle, the search is not biased towards a specific range. "
      ]
    },
    {
      "cell_type": "code",
      "execution_count": null,
      "metadata": {
        "id": "Z2R9G5qGzgHl"
      },
      "outputs": [],
      "source": [
        "# Number of trees in random forest\n",
        "n_estimators = [int(x) for x in np.linspace(start = 200, stop = 2000, num = 10)]\n",
        "# Number of features to consider at every split\n",
        "max_features = ['auto', 'sqrt']\n",
        "# Maximum number of levels in tree\n",
        "max_depth = [int(x) for x in np.linspace(10, 110, num = 11)]\n",
        "max_depth.append(None)\n",
        "# Minimum number of samples required to split a node\n",
        "min_samples_split = [2, 5, 10]\n",
        "# Minimum number of samples required at each leaf node\n",
        "min_samples_leaf = [1, 2, 4]\n",
        "# Method of selecting samples for training each tree\n",
        "bootstrap = [True, False]\n",
        "\n",
        "# Our parameter distribution (or parameter grid in the case of grid search)\n",
        "random_grid = {'n_estimators': n_estimators,\n",
        "               'max_features': max_features,\n",
        "               'max_depth': max_depth,\n",
        "               'min_samples_split': min_samples_split,\n",
        "               'min_samples_leaf': min_samples_leaf,\n",
        "               'bootstrap': bootstrap}"
      ]
    },
    {
      "cell_type": "markdown",
      "metadata": {
        "id": "E2hLXd_1m_m-"
      },
      "source": [
        "Compared to the grid search, the randomized search has some randomness and iterations, so it has a few more parameters such as **n_iter**, **random_state**. Also, the parameter grid is now called parameter distributions as it can also receive a distribution (such as **scipy.stats.uniform**) and sample from it."
      ]
    },
    {
      "cell_type": "code",
      "execution_count": null,
      "metadata": {
        "id": "NTdWhjydzlLx"
      },
      "outputs": [],
      "source": [
        "# RandomizedSearchCV\n",
        "# - estimator\n",
        "# - param_distribution\n",
        "# - n_iter\n",
        "# - cv\n",
        "# - random_state\n"
      ]
    },
    {
      "cell_type": "code",
      "source": [
        "%%time\n",
        "rf_random.fit(X_train_scaled, y_train)"
      ],
      "metadata": {
        "id": "tOW2W22w-5t6"
      },
      "execution_count": null,
      "outputs": []
    },
    {
      "cell_type": "code",
      "execution_count": null,
      "metadata": {
        "id": "A85NI7yiZIgf"
      },
      "outputs": [],
      "source": [
        "# best_estimator"
      ]
    },
    {
      "cell_type": "code",
      "source": [
        "# best_score"
      ],
      "metadata": {
        "id": "oBvjoML1P0zE"
      },
      "execution_count": null,
      "outputs": []
    },
    {
      "cell_type": "code",
      "execution_count": null,
      "metadata": {
        "id": "ZZY39EDOZAou"
      },
      "outputs": [],
      "source": [
        "# test score"
      ]
    },
    {
      "cell_type": "markdown",
      "source": [
        "You can also run a grid search and see if it completes in a reasonable amount of time."
      ],
      "metadata": {
        "id": "ZyllivmG_FKl"
      }
    },
    {
      "cell_type": "code",
      "execution_count": null,
      "metadata": {
        "id": "LfCSjEvfS1WV"
      },
      "outputs": [],
      "source": [
        "gs_random = GridSearchCV(estimator = rf, param_grid = random_grid, cv = 3, verbose=2, n_jobs = -1)"
      ]
    },
    {
      "cell_type": "code",
      "execution_count": null,
      "metadata": {
        "id": "U9V0iZ6bcILn"
      },
      "outputs": [],
      "source": [
        "%%time\n",
        "gs_random.fit(X_train_scaled, y_train) # NEVER FINISHES!!"
      ]
    },
    {
      "cell_type": "markdown",
      "metadata": {
        "id": "4dJw5E8_cKu9"
      },
      "source": [
        "Randomized search is greatly helpful when we have many options to search as it randomly choose the combination. However, it does not guarantee that it will find the optimal solution, but still it will give you similar result with the grid search. However, if you only have a limited number of parameter combinations, it is still the best to apply the grid search."
      ]
    },
    {
      "cell_type": "markdown",
      "metadata": {
        "id": "l6iZTuc2er8H"
      },
      "source": [
        "### 6. Pipelines"
      ]
    },
    {
      "cell_type": "markdown",
      "metadata": {
        "id": "myvClh9IifsP"
      },
      "source": [
        "Most machine learning data is not ideal for building a final model. Many data transformations such as manipulating categorical variables or scaling and normalization must be performed. Scikit-Learn has built-in most commonly used functions for preprocessing functions. However, in a typical machine learning workflow, you would need to apply all these transformations more than once. Because you do it once when you train the model and again for every new data you want to predict. Of course, you can use a reusable function, but you will have to run it first and then call the model separately. The Scikit-Learn pipeline is a tool that simplifies this process and has several key advantages:\n",
        "\n",
        "- Pipelines allow you to create a single object that contains all stages of data preprocessing and classification.\n",
        "- It makes cross-validation and other types of model selection easier.\n",
        "- Increased reproducibility \n",
        "\n",
        "Using pipeline lets you manage your whole preprocessing and training process in one place and change the setting in a central place."
      ]
    },
    {
      "cell_type": "code",
      "execution_count": null,
      "metadata": {
        "id": "uBgT-VhyzqaE"
      },
      "outputs": [],
      "source": [
        "# Create a pipeline\n",
        "# - scaler = StandardScaler\n",
        "# - selector = VarianceThreshold with 0.1\n",
        "# - classifier = RandomForestClassifier\n"
      ]
    },
    {
      "cell_type": "code",
      "source": [
        "print('Training set score: ' + str(pipe.score(X_train_scaled, y_train)))\n",
        "print('Test set score: ' + str(pipe.score(X_test_scaled, y_test)))"
      ],
      "metadata": {
        "id": "tzUgb_tZSfv1"
      },
      "execution_count": null,
      "outputs": []
    },
    {
      "cell_type": "markdown",
      "metadata": {
        "id": "yQYOHTPmkV4N"
      },
      "source": [
        "### Task 1: Add private functions to the pipelines"
      ]
    },
    {
      "cell_type": "markdown",
      "metadata": {
        "id": "9Hds6SBbmnVZ"
      },
      "source": [
        "Most of the functions are supported by scikit-learn, but sometimes you may need other methods as well to change the dataset. In this case, you may have some modules that are not part of the pipeline. However, the scikit-learn pipeline also supports custom functions following some rules. \n",
        "\n",
        "The rule here is to construct a class with both **fit** and **transform** methods inside.\n",
        "\n",
        "- Create **SquaredFeatureTransformer** that squares the values in our DataFrame and merges those squared features into the original DataFrame. \n",
        "  - Our dataset will have two times more features after this transformation.\n",
        "  - Integrate this transformer into the pipeline we made before by adding the class **SquaredFeatureTransformer** after 'scaler' with the name 'squared'. - Eventually, the pipeline should have four elements: 'scaler', 'squared', 'selector', and 'classifier'.\n",
        "  - Fit the pipeline as we did before by calling **fit** method on **X_train_scaled** and **y_train_scaled**."
      ]
    },
    {
      "cell_type": "code",
      "execution_count": null,
      "metadata": {
        "id": "kcXAn_fpesrC"
      },
      "outputs": [],
      "source": [
        "# SquaredFeatureTransformer\n",
        "# - BestEstimator, TransformerMixin\n",
        "# - __init__\n",
        "# - fit\n",
        "# - transform\n",
        "\n",
        "class SquaredFeatureTransformer(BaseEstimator, TransformerMixin):\n",
        "  \"\"\"\n",
        "  This class will transform the dataset by adding squared features\n",
        "  You need to change the transform function to square each feature's values and add them to the matrix.\n",
        "  \"\"\"\n",
        "  def __init__(self):\n",
        "    return None\n",
        "  \n",
        "  def fit(self, X, y = None):\n",
        "    return None\n",
        "\n",
        "  def transform(self, X, y = None):\n",
        "    \"\"\"\n",
        "    Square each feature and add to the data \n",
        "    \"\"\"\n",
        "    return None\n",
        "\n",
        "pipe = None # CHANGE IT\n",
        "\n",
        "pipe.fit(X_train_scaled, y_train)"
      ]
    },
    {
      "cell_type": "code",
      "source": [
        "print('Training set score: ' + str(pipe.score(X_train_scaled, y_train)))\n",
        "print('Test set score: ' + str(pipe.score(X_test_scaled, y_test)))"
      ],
      "metadata": {
        "id": "psX_MD-oSyM5"
      },
      "execution_count": null,
      "outputs": []
    },
    {
      "cell_type": "markdown",
      "metadata": {
        "id": "FPdf90iekKrp"
      },
      "source": [
        "### Task 2: Put things together - integrate grid search / randomized search into the pipelines under ensemble models"
      ]
    },
    {
      "cell_type": "markdown",
      "metadata": {
        "id": "wRem4JQvfDm7"
      },
      "source": [
        "So far, we have learned randomized search and grid search for a parameter search of a specific model and the scikit-learn pipeline to streamline the complete machine learning task from preprocessing to model training. Then the remaining question is how we can also integrate the model selection process - like the parameter search we performed using the grid search and the randomized search - into the pipeline.\n",
        "\n",
        "By adding those parameter tests, you can also change the modules that should be in the same name: for example, you can have [StandardScaler(), MinMaxScaler(),\n",
        "  Normalizer(), MaxAbsScaler()] in a name 'scaler' of the pipeline. Moreover, you can perform a grid test if they have the common parameters - they usually have. \n",
        "\n",
        "Task: Define a new variable **parameters** and customize the options by creating a dictionary. You can change the pipeline values by setting the same key as you did for the pipeline. For example, if you would like to test two scalers, you can put 'scaler': [scaler1, scaler2]. \n",
        "\n",
        "- Create the following key-values in the **parameters** dictionary.\n",
        " - 'scaler': StandardScaler(), MinMaxScaler().\n",
        " - 'classifier': AdaBoostClassifier(), XGBoostClassifier(), RandomForestClassifier().\n",
        "\n",
        "- You can also search for many parameter options by using '__'. If you want to test the threshold parameter of the selector (here, we use VarianceThreshold as a selector), you can specify the key as 'selector__threshold'.\n",
        "  - Add 'selector__threshold' key with the values [0, 0.001, 0.01] into the **parameters** dictionary.\n",
        "\n",
        "- Run a grid search as usual. You can put the pipeline instance (pipe) as a classifier and **parameters** as a param_grid. Check the training score and test score."
      ]
    },
    {
      "cell_type": "code",
      "execution_count": null,
      "metadata": {
        "id": "l3ffVWV-kfTl"
      },
      "outputs": [],
      "source": [
        "pipe = None # CHANGE IT\n",
        "\n",
        "parameters = None # CHANGE IT\n",
        "\n",
        "grid = # CHANGE IT\n",
        "\n",
        "pipe.fit(X_train_scaled, y_train)"
      ]
    },
    {
      "cell_type": "code",
      "source": [
        "print('Training set score: ' + str(grid.score(X_train_scaled, y_train)))\n",
        "print('Test set score: ' + str(grid.score(X_test_scaled, y_test)))"
      ],
      "metadata": {
        "id": "JSI2hqslS_EL"
      },
      "execution_count": null,
      "outputs": []
    }
  ],
  "metadata": {
    "colab": {
      "collapsed_sections": [],
      "name": "Lab2.ipynb",
      "provenance": [],
      "include_colab_link": true
    },
    "kernelspec": {
      "display_name": "Python 3",
      "name": "python3"
    },
    "language_info": {
      "name": "python"
    }
  },
  "nbformat": 4,
  "nbformat_minor": 0
}